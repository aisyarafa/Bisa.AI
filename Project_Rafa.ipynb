{
 "cells": [
  {
   "cell_type": "markdown",
   "metadata": {},
   "source": [
    "# Perkenalan"
   ]
  },
  {
   "cell_type": "markdown",
   "metadata": {},
   "source": [
    "Nama: Aisya Rafa Maharani\n",
    "\n",
    "Dataset: Dataset yang digunakan adalah insurance.csv yang berisi informasi mengenai orang-orang yang memiliki asuransi, baik informasi terkait umur, jenis kelamin, data BMI, dll. Dataset ini memiliki kolom sebanyak 7 dan memiliki baris sebanyak 1338.\n",
    "\n",
    "Objective: Program ini dibuat untuk memudahkan seseorang dalam memprediksi biaya asuransi kesehatan per tahun, dengan menggunakan model machine learning yaitu supervised learning, dengan metodenya adalah linear regression. Proses yang dilakukan untuk prediksi dimulai dari import libraries yang akan digunakan, kemudian data loading, EDA, feature engineering, model definition, model training, model evaluation, model saving, dan model inference. Setelah itu akan didapatkan kesimpulan mengenai prediksi biaya asuransi kesehatan per tahun."
   ]
  },
  {
   "cell_type": "markdown",
   "metadata": {},
   "source": [
    "# Import Libraries"
   ]
  },
  {
   "cell_type": "code",
   "execution_count": 67,
   "metadata": {},
   "outputs": [],
   "source": [
    "# Mengimport pandas untuk membaca data csv dan untuk memanipulasi data\n",
    "import pandas as pd\n",
    "# Mengimport seaborn untuk membuat visualisasi data\n",
    "import seaborn as sns\n",
    "# Mengimport matplotlib.pyplot untuk membuat grafik dan plot\n",
    "import matplotlib.pyplot as plt\n",
    "# Mengimport train_test_split untuk membagi dataset menjadi data train dan test\n",
    "from sklearn.model_selection import train_test_split\n",
    "# Import Winsorizer untuk handling outlier\n",
    "from feature_engine.outliers import Winsorizer\n",
    "# Mengimport stats untuk melihat korelasi antar variabel\n",
    "from scipy import stats\n",
    "# Import numpy untuk perhitungan\n",
    "import numpy as np\n",
    "# Mengimport scaler untuk melakukan scaling\n",
    "from sklearn.preprocessing import StandardScaler\n",
    "# Mengimport OneHotEncoder untuk melakukan encoding\n",
    "from sklearn.preprocessing import OneHotEncoder\n",
    "# Mengimport OrdinalEncoder untuk melakukan encoding\n",
    "from sklearn.preprocessing import OrdinalEncoder\n",
    "# Mengimport LinearRegression untuk memprediksi data\n",
    "from sklearn.linear_model import LinearRegression\n",
    "# Import libraries untuk evaluasi model\n",
    "from sklearn.metrics import mean_squared_error, r2_score\n",
    "# Imports pickle dan json untuk Menyimpan files\n",
    "import pickle\n",
    "import json\n",
    "# Import variance_inflation_factor untuk melihat hubungan antar feature untuk asumsi nomer 2\n",
    "from statsmodels.stats.outliers_influence import variance_inflation_factor\n",
    "# Import statsmodels untuk menampilkan QQ plot\n",
    "import statsmodels.api as sm\n",
    "# Mengimport durbin_watson untuk melakukan Durbin-Watson test\n",
    "from statsmodels.stats.stattools import durbin_watson"
   ]
  },
  {
   "cell_type": "markdown",
   "metadata": {},
   "source": [
    "# Data Loading"
   ]
  },
  {
   "cell_type": "code",
   "execution_count": 68,
   "metadata": {},
   "outputs": [],
   "source": [
    "# Menggunakan pandas untuk membaca data csv dan memasukkannya ke dalam variabel data\n",
    "data = pd.read_csv('insurance.csv')"
   ]
  },
  {
   "cell_type": "code",
   "execution_count": 69,
   "metadata": {},
   "outputs": [
    {
     "data": {
      "text/html": [
       "<div>\n",
       "<style scoped>\n",
       "    .dataframe tbody tr th:only-of-type {\n",
       "        vertical-align: middle;\n",
       "    }\n",
       "\n",
       "    .dataframe tbody tr th {\n",
       "        vertical-align: top;\n",
       "    }\n",
       "\n",
       "    .dataframe thead th {\n",
       "        text-align: right;\n",
       "    }\n",
       "</style>\n",
       "<table border=\"1\" class=\"dataframe\">\n",
       "  <thead>\n",
       "    <tr style=\"text-align: right;\">\n",
       "      <th></th>\n",
       "      <th>age</th>\n",
       "      <th>sex</th>\n",
       "      <th>bmi</th>\n",
       "      <th>children</th>\n",
       "      <th>smoker</th>\n",
       "      <th>region</th>\n",
       "      <th>charges</th>\n",
       "    </tr>\n",
       "  </thead>\n",
       "  <tbody>\n",
       "    <tr>\n",
       "      <th>0</th>\n",
       "      <td>19</td>\n",
       "      <td>female</td>\n",
       "      <td>27.900</td>\n",
       "      <td>0</td>\n",
       "      <td>yes</td>\n",
       "      <td>southwest</td>\n",
       "      <td>16884.92400</td>\n",
       "    </tr>\n",
       "    <tr>\n",
       "      <th>1</th>\n",
       "      <td>18</td>\n",
       "      <td>male</td>\n",
       "      <td>33.770</td>\n",
       "      <td>1</td>\n",
       "      <td>no</td>\n",
       "      <td>southeast</td>\n",
       "      <td>1725.55230</td>\n",
       "    </tr>\n",
       "    <tr>\n",
       "      <th>2</th>\n",
       "      <td>28</td>\n",
       "      <td>male</td>\n",
       "      <td>33.000</td>\n",
       "      <td>3</td>\n",
       "      <td>no</td>\n",
       "      <td>southeast</td>\n",
       "      <td>4449.46200</td>\n",
       "    </tr>\n",
       "    <tr>\n",
       "      <th>3</th>\n",
       "      <td>33</td>\n",
       "      <td>male</td>\n",
       "      <td>22.705</td>\n",
       "      <td>0</td>\n",
       "      <td>no</td>\n",
       "      <td>northwest</td>\n",
       "      <td>21984.47061</td>\n",
       "    </tr>\n",
       "    <tr>\n",
       "      <th>4</th>\n",
       "      <td>32</td>\n",
       "      <td>male</td>\n",
       "      <td>28.880</td>\n",
       "      <td>0</td>\n",
       "      <td>no</td>\n",
       "      <td>northwest</td>\n",
       "      <td>3866.85520</td>\n",
       "    </tr>\n",
       "    <tr>\n",
       "      <th>...</th>\n",
       "      <td>...</td>\n",
       "      <td>...</td>\n",
       "      <td>...</td>\n",
       "      <td>...</td>\n",
       "      <td>...</td>\n",
       "      <td>...</td>\n",
       "      <td>...</td>\n",
       "    </tr>\n",
       "    <tr>\n",
       "      <th>1333</th>\n",
       "      <td>50</td>\n",
       "      <td>male</td>\n",
       "      <td>30.970</td>\n",
       "      <td>3</td>\n",
       "      <td>no</td>\n",
       "      <td>northwest</td>\n",
       "      <td>10600.54830</td>\n",
       "    </tr>\n",
       "    <tr>\n",
       "      <th>1334</th>\n",
       "      <td>18</td>\n",
       "      <td>female</td>\n",
       "      <td>31.920</td>\n",
       "      <td>0</td>\n",
       "      <td>no</td>\n",
       "      <td>northeast</td>\n",
       "      <td>2205.98080</td>\n",
       "    </tr>\n",
       "    <tr>\n",
       "      <th>1335</th>\n",
       "      <td>18</td>\n",
       "      <td>female</td>\n",
       "      <td>36.850</td>\n",
       "      <td>0</td>\n",
       "      <td>no</td>\n",
       "      <td>southeast</td>\n",
       "      <td>1629.83350</td>\n",
       "    </tr>\n",
       "    <tr>\n",
       "      <th>1336</th>\n",
       "      <td>21</td>\n",
       "      <td>female</td>\n",
       "      <td>25.800</td>\n",
       "      <td>0</td>\n",
       "      <td>no</td>\n",
       "      <td>southwest</td>\n",
       "      <td>2007.94500</td>\n",
       "    </tr>\n",
       "    <tr>\n",
       "      <th>1337</th>\n",
       "      <td>61</td>\n",
       "      <td>female</td>\n",
       "      <td>29.070</td>\n",
       "      <td>0</td>\n",
       "      <td>yes</td>\n",
       "      <td>northwest</td>\n",
       "      <td>29141.36030</td>\n",
       "    </tr>\n",
       "  </tbody>\n",
       "</table>\n",
       "<p>1338 rows × 7 columns</p>\n",
       "</div>"
      ],
      "text/plain": [
       "      age     sex     bmi  children smoker     region      charges\n",
       "0      19  female  27.900         0    yes  southwest  16884.92400\n",
       "1      18    male  33.770         1     no  southeast   1725.55230\n",
       "2      28    male  33.000         3     no  southeast   4449.46200\n",
       "3      33    male  22.705         0     no  northwest  21984.47061\n",
       "4      32    male  28.880         0     no  northwest   3866.85520\n",
       "...   ...     ...     ...       ...    ...        ...          ...\n",
       "1333   50    male  30.970         3     no  northwest  10600.54830\n",
       "1334   18  female  31.920         0     no  northeast   2205.98080\n",
       "1335   18  female  36.850         0     no  southeast   1629.83350\n",
       "1336   21  female  25.800         0     no  southwest   2007.94500\n",
       "1337   61  female  29.070         0    yes  northwest  29141.36030\n",
       "\n",
       "[1338 rows x 7 columns]"
      ]
     },
     "execution_count": 69,
     "metadata": {},
     "output_type": "execute_result"
    }
   ],
   "source": [
    "# Melihat isi dari tabel data secara keseluruhan\n",
    "data"
   ]
  },
  {
   "cell_type": "code",
   "execution_count": 70,
   "metadata": {},
   "outputs": [
    {
     "data": {
      "text/html": [
       "<div>\n",
       "<style scoped>\n",
       "    .dataframe tbody tr th:only-of-type {\n",
       "        vertical-align: middle;\n",
       "    }\n",
       "\n",
       "    .dataframe tbody tr th {\n",
       "        vertical-align: top;\n",
       "    }\n",
       "\n",
       "    .dataframe thead th {\n",
       "        text-align: right;\n",
       "    }\n",
       "</style>\n",
       "<table border=\"1\" class=\"dataframe\">\n",
       "  <thead>\n",
       "    <tr style=\"text-align: right;\">\n",
       "      <th></th>\n",
       "      <th>age</th>\n",
       "      <th>sex</th>\n",
       "      <th>bmi</th>\n",
       "      <th>children</th>\n",
       "      <th>smoker</th>\n",
       "      <th>region</th>\n",
       "      <th>charges</th>\n",
       "    </tr>\n",
       "  </thead>\n",
       "  <tbody>\n",
       "    <tr>\n",
       "      <th>0</th>\n",
       "      <td>19</td>\n",
       "      <td>female</td>\n",
       "      <td>27.900</td>\n",
       "      <td>0</td>\n",
       "      <td>yes</td>\n",
       "      <td>southwest</td>\n",
       "      <td>16884.92400</td>\n",
       "    </tr>\n",
       "    <tr>\n",
       "      <th>1</th>\n",
       "      <td>18</td>\n",
       "      <td>male</td>\n",
       "      <td>33.770</td>\n",
       "      <td>1</td>\n",
       "      <td>no</td>\n",
       "      <td>southeast</td>\n",
       "      <td>1725.55230</td>\n",
       "    </tr>\n",
       "    <tr>\n",
       "      <th>2</th>\n",
       "      <td>28</td>\n",
       "      <td>male</td>\n",
       "      <td>33.000</td>\n",
       "      <td>3</td>\n",
       "      <td>no</td>\n",
       "      <td>southeast</td>\n",
       "      <td>4449.46200</td>\n",
       "    </tr>\n",
       "    <tr>\n",
       "      <th>3</th>\n",
       "      <td>33</td>\n",
       "      <td>male</td>\n",
       "      <td>22.705</td>\n",
       "      <td>0</td>\n",
       "      <td>no</td>\n",
       "      <td>northwest</td>\n",
       "      <td>21984.47061</td>\n",
       "    </tr>\n",
       "    <tr>\n",
       "      <th>4</th>\n",
       "      <td>32</td>\n",
       "      <td>male</td>\n",
       "      <td>28.880</td>\n",
       "      <td>0</td>\n",
       "      <td>no</td>\n",
       "      <td>northwest</td>\n",
       "      <td>3866.85520</td>\n",
       "    </tr>\n",
       "  </tbody>\n",
       "</table>\n",
       "</div>"
      ],
      "text/plain": [
       "   age     sex     bmi  children smoker     region      charges\n",
       "0   19  female  27.900         0    yes  southwest  16884.92400\n",
       "1   18    male  33.770         1     no  southeast   1725.55230\n",
       "2   28    male  33.000         3     no  southeast   4449.46200\n",
       "3   33    male  22.705         0     no  northwest  21984.47061\n",
       "4   32    male  28.880         0     no  northwest   3866.85520"
      ]
     },
     "execution_count": 70,
     "metadata": {},
     "output_type": "execute_result"
    }
   ],
   "source": [
    "# Melihat 5 data pertama dari tabel data\n",
    "data.head()"
   ]
  },
  {
   "cell_type": "code",
   "execution_count": 71,
   "metadata": {},
   "outputs": [
    {
     "data": {
      "text/html": [
       "<div>\n",
       "<style scoped>\n",
       "    .dataframe tbody tr th:only-of-type {\n",
       "        vertical-align: middle;\n",
       "    }\n",
       "\n",
       "    .dataframe tbody tr th {\n",
       "        vertical-align: top;\n",
       "    }\n",
       "\n",
       "    .dataframe thead th {\n",
       "        text-align: right;\n",
       "    }\n",
       "</style>\n",
       "<table border=\"1\" class=\"dataframe\">\n",
       "  <thead>\n",
       "    <tr style=\"text-align: right;\">\n",
       "      <th></th>\n",
       "      <th>age</th>\n",
       "      <th>sex</th>\n",
       "      <th>bmi</th>\n",
       "      <th>children</th>\n",
       "      <th>smoker</th>\n",
       "      <th>region</th>\n",
       "      <th>charges</th>\n",
       "    </tr>\n",
       "  </thead>\n",
       "  <tbody>\n",
       "    <tr>\n",
       "      <th>1333</th>\n",
       "      <td>50</td>\n",
       "      <td>male</td>\n",
       "      <td>30.97</td>\n",
       "      <td>3</td>\n",
       "      <td>no</td>\n",
       "      <td>northwest</td>\n",
       "      <td>10600.5483</td>\n",
       "    </tr>\n",
       "    <tr>\n",
       "      <th>1334</th>\n",
       "      <td>18</td>\n",
       "      <td>female</td>\n",
       "      <td>31.92</td>\n",
       "      <td>0</td>\n",
       "      <td>no</td>\n",
       "      <td>northeast</td>\n",
       "      <td>2205.9808</td>\n",
       "    </tr>\n",
       "    <tr>\n",
       "      <th>1335</th>\n",
       "      <td>18</td>\n",
       "      <td>female</td>\n",
       "      <td>36.85</td>\n",
       "      <td>0</td>\n",
       "      <td>no</td>\n",
       "      <td>southeast</td>\n",
       "      <td>1629.8335</td>\n",
       "    </tr>\n",
       "    <tr>\n",
       "      <th>1336</th>\n",
       "      <td>21</td>\n",
       "      <td>female</td>\n",
       "      <td>25.80</td>\n",
       "      <td>0</td>\n",
       "      <td>no</td>\n",
       "      <td>southwest</td>\n",
       "      <td>2007.9450</td>\n",
       "    </tr>\n",
       "    <tr>\n",
       "      <th>1337</th>\n",
       "      <td>61</td>\n",
       "      <td>female</td>\n",
       "      <td>29.07</td>\n",
       "      <td>0</td>\n",
       "      <td>yes</td>\n",
       "      <td>northwest</td>\n",
       "      <td>29141.3603</td>\n",
       "    </tr>\n",
       "  </tbody>\n",
       "</table>\n",
       "</div>"
      ],
      "text/plain": [
       "      age     sex    bmi  children smoker     region     charges\n",
       "1333   50    male  30.97         3     no  northwest  10600.5483\n",
       "1334   18  female  31.92         0     no  northeast   2205.9808\n",
       "1335   18  female  36.85         0     no  southeast   1629.8335\n",
       "1336   21  female  25.80         0     no  southwest   2007.9450\n",
       "1337   61  female  29.07         0    yes  northwest  29141.3603"
      ]
     },
     "execution_count": 71,
     "metadata": {},
     "output_type": "execute_result"
    }
   ],
   "source": [
    "# Melihat 5 data terakhir dari tabel data\n",
    "data.tail()"
   ]
  },
  {
   "cell_type": "code",
   "execution_count": 72,
   "metadata": {},
   "outputs": [],
   "source": [
    "# Duplicate Dataset\n",
    "data_duplicate = data.copy()"
   ]
  },
  {
   "cell_type": "code",
   "execution_count": 73,
   "metadata": {},
   "outputs": [
    {
     "name": "stdout",
     "output_type": "stream",
     "text": [
      "Jumlah kolom dari tabel data adalah: 7\n",
      "Jumlah baris dari tabel data adalah: 1338\n"
     ]
    }
   ],
   "source": [
    "# Melihat jumlah kolom dari tabel data dan menampilkannya\n",
    "print(f'Jumlah kolom dari tabel data adalah: {len(data.columns)}')\n",
    "# Melihat jumlah baris dari tabel data dan menampilkannya\n",
    "print(f'Jumlah baris dari tabel data adalah: {len(data)}')"
   ]
  },
  {
   "cell_type": "code",
   "execution_count": 74,
   "metadata": {},
   "outputs": [
    {
     "name": "stdout",
     "output_type": "stream",
     "text": [
      "<class 'pandas.core.frame.DataFrame'>\n",
      "RangeIndex: 1338 entries, 0 to 1337\n",
      "Data columns (total 7 columns):\n",
      " #   Column    Non-Null Count  Dtype  \n",
      "---  ------    --------------  -----  \n",
      " 0   age       1338 non-null   int64  \n",
      " 1   sex       1338 non-null   object \n",
      " 2   bmi       1338 non-null   float64\n",
      " 3   children  1338 non-null   int64  \n",
      " 4   smoker    1338 non-null   object \n",
      " 5   region    1338 non-null   object \n",
      " 6   charges   1338 non-null   float64\n",
      "dtypes: float64(2), int64(2), object(3)\n",
      "memory usage: 73.3+ KB\n"
     ]
    }
   ],
   "source": [
    "# Melihat tipe data dan jumlah missing value dari semua kolom\n",
    "data.info()"
   ]
  },
  {
   "cell_type": "markdown",
   "metadata": {},
   "source": [
    "Tidak terdapat missing value pada semua kolom. Tipe data dari tabel data adalah float sebanyak 2 kolom, integer sebanyak 2 kolom, dan object atau string sebanyak 3 kolom."
   ]
  },
  {
   "cell_type": "code",
   "execution_count": 75,
   "metadata": {},
   "outputs": [
    {
     "data": {
      "text/html": [
       "<div>\n",
       "<style scoped>\n",
       "    .dataframe tbody tr th:only-of-type {\n",
       "        vertical-align: middle;\n",
       "    }\n",
       "\n",
       "    .dataframe tbody tr th {\n",
       "        vertical-align: top;\n",
       "    }\n",
       "\n",
       "    .dataframe thead th {\n",
       "        text-align: right;\n",
       "    }\n",
       "</style>\n",
       "<table border=\"1\" class=\"dataframe\">\n",
       "  <thead>\n",
       "    <tr style=\"text-align: right;\">\n",
       "      <th></th>\n",
       "      <th>age</th>\n",
       "      <th>sex</th>\n",
       "      <th>bmi</th>\n",
       "      <th>children</th>\n",
       "      <th>smoker</th>\n",
       "      <th>region</th>\n",
       "      <th>charges</th>\n",
       "    </tr>\n",
       "  </thead>\n",
       "  <tbody>\n",
       "    <tr>\n",
       "      <th>count</th>\n",
       "      <td>1338.000000</td>\n",
       "      <td>1338</td>\n",
       "      <td>1338.000000</td>\n",
       "      <td>1338.000000</td>\n",
       "      <td>1338</td>\n",
       "      <td>1338</td>\n",
       "      <td>1338.000000</td>\n",
       "    </tr>\n",
       "    <tr>\n",
       "      <th>unique</th>\n",
       "      <td>NaN</td>\n",
       "      <td>2</td>\n",
       "      <td>NaN</td>\n",
       "      <td>NaN</td>\n",
       "      <td>2</td>\n",
       "      <td>4</td>\n",
       "      <td>NaN</td>\n",
       "    </tr>\n",
       "    <tr>\n",
       "      <th>top</th>\n",
       "      <td>NaN</td>\n",
       "      <td>male</td>\n",
       "      <td>NaN</td>\n",
       "      <td>NaN</td>\n",
       "      <td>no</td>\n",
       "      <td>southeast</td>\n",
       "      <td>NaN</td>\n",
       "    </tr>\n",
       "    <tr>\n",
       "      <th>freq</th>\n",
       "      <td>NaN</td>\n",
       "      <td>676</td>\n",
       "      <td>NaN</td>\n",
       "      <td>NaN</td>\n",
       "      <td>1064</td>\n",
       "      <td>364</td>\n",
       "      <td>NaN</td>\n",
       "    </tr>\n",
       "    <tr>\n",
       "      <th>mean</th>\n",
       "      <td>39.207025</td>\n",
       "      <td>NaN</td>\n",
       "      <td>30.663397</td>\n",
       "      <td>1.094918</td>\n",
       "      <td>NaN</td>\n",
       "      <td>NaN</td>\n",
       "      <td>13270.422265</td>\n",
       "    </tr>\n",
       "    <tr>\n",
       "      <th>std</th>\n",
       "      <td>14.049960</td>\n",
       "      <td>NaN</td>\n",
       "      <td>6.098187</td>\n",
       "      <td>1.205493</td>\n",
       "      <td>NaN</td>\n",
       "      <td>NaN</td>\n",
       "      <td>12110.011237</td>\n",
       "    </tr>\n",
       "    <tr>\n",
       "      <th>min</th>\n",
       "      <td>18.000000</td>\n",
       "      <td>NaN</td>\n",
       "      <td>15.960000</td>\n",
       "      <td>0.000000</td>\n",
       "      <td>NaN</td>\n",
       "      <td>NaN</td>\n",
       "      <td>1121.873900</td>\n",
       "    </tr>\n",
       "    <tr>\n",
       "      <th>25%</th>\n",
       "      <td>27.000000</td>\n",
       "      <td>NaN</td>\n",
       "      <td>26.296250</td>\n",
       "      <td>0.000000</td>\n",
       "      <td>NaN</td>\n",
       "      <td>NaN</td>\n",
       "      <td>4740.287150</td>\n",
       "    </tr>\n",
       "    <tr>\n",
       "      <th>50%</th>\n",
       "      <td>39.000000</td>\n",
       "      <td>NaN</td>\n",
       "      <td>30.400000</td>\n",
       "      <td>1.000000</td>\n",
       "      <td>NaN</td>\n",
       "      <td>NaN</td>\n",
       "      <td>9382.033000</td>\n",
       "    </tr>\n",
       "    <tr>\n",
       "      <th>75%</th>\n",
       "      <td>51.000000</td>\n",
       "      <td>NaN</td>\n",
       "      <td>34.693750</td>\n",
       "      <td>2.000000</td>\n",
       "      <td>NaN</td>\n",
       "      <td>NaN</td>\n",
       "      <td>16639.912515</td>\n",
       "    </tr>\n",
       "    <tr>\n",
       "      <th>max</th>\n",
       "      <td>64.000000</td>\n",
       "      <td>NaN</td>\n",
       "      <td>53.130000</td>\n",
       "      <td>5.000000</td>\n",
       "      <td>NaN</td>\n",
       "      <td>NaN</td>\n",
       "      <td>63770.428010</td>\n",
       "    </tr>\n",
       "  </tbody>\n",
       "</table>\n",
       "</div>"
      ],
      "text/plain": [
       "                age   sex          bmi     children smoker     region  \\\n",
       "count   1338.000000  1338  1338.000000  1338.000000   1338       1338   \n",
       "unique          NaN     2          NaN          NaN      2          4   \n",
       "top             NaN  male          NaN          NaN     no  southeast   \n",
       "freq            NaN   676          NaN          NaN   1064        364   \n",
       "mean      39.207025   NaN    30.663397     1.094918    NaN        NaN   \n",
       "std       14.049960   NaN     6.098187     1.205493    NaN        NaN   \n",
       "min       18.000000   NaN    15.960000     0.000000    NaN        NaN   \n",
       "25%       27.000000   NaN    26.296250     0.000000    NaN        NaN   \n",
       "50%       39.000000   NaN    30.400000     1.000000    NaN        NaN   \n",
       "75%       51.000000   NaN    34.693750     2.000000    NaN        NaN   \n",
       "max       64.000000   NaN    53.130000     5.000000    NaN        NaN   \n",
       "\n",
       "             charges  \n",
       "count    1338.000000  \n",
       "unique           NaN  \n",
       "top              NaN  \n",
       "freq             NaN  \n",
       "mean    13270.422265  \n",
       "std     12110.011237  \n",
       "min      1121.873900  \n",
       "25%      4740.287150  \n",
       "50%      9382.033000  \n",
       "75%     16639.912515  \n",
       "max     63770.428010  "
      ]
     },
     "execution_count": 75,
     "metadata": {},
     "output_type": "execute_result"
    }
   ],
   "source": [
    "# Melihat data statistik dari tabel data secara keseluruhan\n",
    "data.describe(include='all')"
   ]
  },
  {
   "cell_type": "markdown",
   "metadata": {},
   "source": [
    "data.describe(include='all') dapat menampilkan semua jenis data, baik yang object maupun integer. Pada data yang bertipe object, data statistiknya akan bernilai NaN, dan hanya akan menampilkan data unique value, top value, dan freq value. Sementara untuk data yang bertipe integer akan menghasilkan data statistik seperti mean, max, dll, sementara data unique value, top value, dan freq value akan bernilai NaN."
   ]
  },
  {
   "cell_type": "markdown",
   "metadata": {},
   "source": [
    "Tabel data memiliki 1338 baris. Dapat dilihat bahwa usia terkecil dari orang yang memiliki asuransi adalah 18 tahun dan usia tertinggi adalah 64 tahun. Para pemilik asuransi kebanyakan adalah pria, dapat dilihat pada kolom sex, top nya adalah male. Nilai BMI rata-rata dari pemilik asuransi adalah 30.663397 yang berarti rata-rata pemilik asuransi adalah overweight. Rata-rata pemilik asuransi memiliki 1 anak, dengan anak terbanyak adalah 5 dan terdikit adalah tidak memiliki anak. Pemilik asuransi kebanyakan tidak merokok dan kebanyakan bertempat tinggal di daerah southeast. Biaya kesehatan pemilik asuransi tertinggi adalah sebesar 63770.428010 dan terendah adalah 1121.873900, dengan rata-rata nya adalah 13270.422265."
   ]
  },
  {
   "cell_type": "markdown",
   "metadata": {},
   "source": [
    "# Exploratory Data Analysis (EDA)"
   ]
  },
  {
   "cell_type": "code",
   "execution_count": 76,
   "metadata": {},
   "outputs": [
    {
     "data": {
      "text/html": [
       "<div>\n",
       "<style scoped>\n",
       "    .dataframe tbody tr th:only-of-type {\n",
       "        vertical-align: middle;\n",
       "    }\n",
       "\n",
       "    .dataframe tbody tr th {\n",
       "        vertical-align: top;\n",
       "    }\n",
       "\n",
       "    .dataframe thead th {\n",
       "        text-align: right;\n",
       "    }\n",
       "</style>\n",
       "<table border=\"1\" class=\"dataframe\">\n",
       "  <thead>\n",
       "    <tr style=\"text-align: right;\">\n",
       "      <th></th>\n",
       "      <th>age</th>\n",
       "      <th>sex</th>\n",
       "      <th>bmi</th>\n",
       "      <th>children</th>\n",
       "      <th>smoker</th>\n",
       "      <th>region</th>\n",
       "      <th>charges</th>\n",
       "    </tr>\n",
       "  </thead>\n",
       "  <tbody>\n",
       "    <tr>\n",
       "      <th>0</th>\n",
       "      <td>19</td>\n",
       "      <td>female</td>\n",
       "      <td>27.900</td>\n",
       "      <td>0</td>\n",
       "      <td>yes</td>\n",
       "      <td>southwest</td>\n",
       "      <td>16884.92400</td>\n",
       "    </tr>\n",
       "    <tr>\n",
       "      <th>1</th>\n",
       "      <td>18</td>\n",
       "      <td>male</td>\n",
       "      <td>33.770</td>\n",
       "      <td>1</td>\n",
       "      <td>no</td>\n",
       "      <td>southeast</td>\n",
       "      <td>1725.55230</td>\n",
       "    </tr>\n",
       "    <tr>\n",
       "      <th>2</th>\n",
       "      <td>28</td>\n",
       "      <td>male</td>\n",
       "      <td>33.000</td>\n",
       "      <td>3</td>\n",
       "      <td>no</td>\n",
       "      <td>southeast</td>\n",
       "      <td>4449.46200</td>\n",
       "    </tr>\n",
       "    <tr>\n",
       "      <th>3</th>\n",
       "      <td>33</td>\n",
       "      <td>male</td>\n",
       "      <td>22.705</td>\n",
       "      <td>0</td>\n",
       "      <td>no</td>\n",
       "      <td>northwest</td>\n",
       "      <td>21984.47061</td>\n",
       "    </tr>\n",
       "    <tr>\n",
       "      <th>4</th>\n",
       "      <td>32</td>\n",
       "      <td>male</td>\n",
       "      <td>28.880</td>\n",
       "      <td>0</td>\n",
       "      <td>no</td>\n",
       "      <td>northwest</td>\n",
       "      <td>3866.85520</td>\n",
       "    </tr>\n",
       "    <tr>\n",
       "      <th>...</th>\n",
       "      <td>...</td>\n",
       "      <td>...</td>\n",
       "      <td>...</td>\n",
       "      <td>...</td>\n",
       "      <td>...</td>\n",
       "      <td>...</td>\n",
       "      <td>...</td>\n",
       "    </tr>\n",
       "    <tr>\n",
       "      <th>1333</th>\n",
       "      <td>50</td>\n",
       "      <td>male</td>\n",
       "      <td>30.970</td>\n",
       "      <td>3</td>\n",
       "      <td>no</td>\n",
       "      <td>northwest</td>\n",
       "      <td>10600.54830</td>\n",
       "    </tr>\n",
       "    <tr>\n",
       "      <th>1334</th>\n",
       "      <td>18</td>\n",
       "      <td>female</td>\n",
       "      <td>31.920</td>\n",
       "      <td>0</td>\n",
       "      <td>no</td>\n",
       "      <td>northeast</td>\n",
       "      <td>2205.98080</td>\n",
       "    </tr>\n",
       "    <tr>\n",
       "      <th>1335</th>\n",
       "      <td>18</td>\n",
       "      <td>female</td>\n",
       "      <td>36.850</td>\n",
       "      <td>0</td>\n",
       "      <td>no</td>\n",
       "      <td>southeast</td>\n",
       "      <td>1629.83350</td>\n",
       "    </tr>\n",
       "    <tr>\n",
       "      <th>1336</th>\n",
       "      <td>21</td>\n",
       "      <td>female</td>\n",
       "      <td>25.800</td>\n",
       "      <td>0</td>\n",
       "      <td>no</td>\n",
       "      <td>southwest</td>\n",
       "      <td>2007.94500</td>\n",
       "    </tr>\n",
       "    <tr>\n",
       "      <th>1337</th>\n",
       "      <td>61</td>\n",
       "      <td>female</td>\n",
       "      <td>29.070</td>\n",
       "      <td>0</td>\n",
       "      <td>yes</td>\n",
       "      <td>northwest</td>\n",
       "      <td>29141.36030</td>\n",
       "    </tr>\n",
       "  </tbody>\n",
       "</table>\n",
       "<p>1338 rows × 7 columns</p>\n",
       "</div>"
      ],
      "text/plain": [
       "      age     sex     bmi  children smoker     region      charges\n",
       "0      19  female  27.900         0    yes  southwest  16884.92400\n",
       "1      18    male  33.770         1     no  southeast   1725.55230\n",
       "2      28    male  33.000         3     no  southeast   4449.46200\n",
       "3      33    male  22.705         0     no  northwest  21984.47061\n",
       "4      32    male  28.880         0     no  northwest   3866.85520\n",
       "...   ...     ...     ...       ...    ...        ...          ...\n",
       "1333   50    male  30.970         3     no  northwest  10600.54830\n",
       "1334   18  female  31.920         0     no  northeast   2205.98080\n",
       "1335   18  female  36.850         0     no  southeast   1629.83350\n",
       "1336   21  female  25.800         0     no  southwest   2007.94500\n",
       "1337   61  female  29.070         0    yes  northwest  29141.36030\n",
       "\n",
       "[1338 rows x 7 columns]"
      ]
     },
     "execution_count": 76,
     "metadata": {},
     "output_type": "execute_result"
    }
   ],
   "source": [
    "# Melihat isi dari tabel data secara keseluruhan\n",
    "data"
   ]
  },
  {
   "cell_type": "markdown",
   "metadata": {},
   "source": [
    "## Klasifikasi Overweight"
   ]
  },
  {
   "cell_type": "code",
   "execution_count": 77,
   "metadata": {},
   "outputs": [
    {
     "data": {
      "image/png": "[encoded data removed]",
      "text/plain": [
       "<Figure size 1000x500 with 1 Axes>"
      ]
     },
     "metadata": {},
     "output_type": "display_data"
    }
   ],
   "source": [
    "# Membuat fungsi untuk mengklasifikasikan overweight\n",
    "def categories_bmi(bmi):\n",
    "    '''\n",
    "    Fungsi categories_bmi berguna untuk mengklasifikasikan\n",
    "    berat badan seseorang kedalam kelas-kelas overweight\n",
    "    '''\n",
    "\n",
    "    if 30 <= bmi < 35:\n",
    "        return 'overweight class 1'\n",
    "    elif 35 <= bmi < 40:\n",
    "        return 'overweight class 2'\n",
    "    elif bmi >= 40:\n",
    "        return 'overweight class 3'\n",
    "    else:\n",
    "        return 'Not overweight'\n",
    "    \n",
    "# Menghitung jumlah tiap kelasnya tanpa membuat kolom baru pada tabel data\n",
    "bmi_categories = data['bmi'].apply(categories_bmi)\n",
    "bmi_count = bmi_categories.value_counts().sort_values(ascending=False)\n",
    "\n",
    "# Membuat visualisasi untuk bmi category\n",
    "plt.figure(figsize=(10,5))\n",
    "bmi_count.plot(kind='bar')\n",
    "plt.title('Jumlah orang berdasarkan setiap kelas BMI')\n",
    "plt.xlabel('Overweight Class')\n",
    "plt.ylabel('Jumlah orang')\n",
    "plt.xticks(rotation=0)\n",
    "plt.show()"
   ]
  },
  {
   "cell_type": "markdown",
   "metadata": {},
   "source": [
    "Para pemilik asuransi kebanyakan tidak overweight, namun jumlah orang yang memiliki overweight kelas 1 juga lumayan banyak, maka dari itu perlu untuk diperhatikan."
   ]
  },
  {
   "cell_type": "markdown",
   "metadata": {},
   "source": [
    "## Melihat Populasi Data Kategorikal"
   ]
  },
  {
   "cell_type": "code",
   "execution_count": 78,
   "metadata": {},
   "outputs": [
    {
     "data": {
      "text/plain": [
       "['sex', 'smoker', 'region']"
      ]
     },
     "execution_count": 78,
     "metadata": {},
     "output_type": "execute_result"
    }
   ],
   "source": [
    "# Melihat kolom mana saja yang bertipe object\n",
    "kolom_object = data.dtypes[data.dtypes == 'object'].index.tolist()\n",
    "kolom_object"
   ]
  },
  {
   "cell_type": "code",
   "execution_count": 79,
   "metadata": {},
   "outputs": [
    {
     "data": {
      "text/plain": [
       "sex       2\n",
       "smoker    2\n",
       "region    4\n",
       "dtype: int64"
      ]
     },
     "execution_count": 79,
     "metadata": {},
     "output_type": "execute_result"
    }
   ],
   "source": [
    "# Melihat jumlah unique value untuk kolom yang akan dianalisis\n",
    "jumlah_unique = data[['sex', 'smoker', 'region']].nunique()\n",
    "jumlah_unique"
   ]
  },
  {
   "cell_type": "code",
   "execution_count": 80,
   "metadata": {},
   "outputs": [
    {
     "data": {
      "image/png": "[encoded data removed]",
      "text/plain": [
       "<Figure size 2000x300 with 3 Axes>"
      ]
     },
     "metadata": {},
     "output_type": "display_data"
    }
   ],
   "source": [
    "# Membuat subplot untuk kolom sex, smoker, dan region          \n",
    "fig, axes = plt.subplots(nrows=1, ncols=3, figsize=(20, 3))\n",
    "\n",
    "# Membuat count plot untuk kolom cab_type\n",
    "sns.countplot(data=data, x='sex', ax=axes[0])\n",
    "sns.countplot(data=data, x='smoker', ax=axes[1])\n",
    "sns.countplot(data=data, x='region', ax=axes[2])\n",
    "\n",
    "# Memberikan judul untuk subplot\n",
    "axes[0].set_title('Data Jenis Kelamin')\n",
    "axes[1].set_title('Data Merokok')\n",
    "axes[2].set_title('Data Daerah')\n",
    "\n",
    "# Menampilkan plot\n",
    "plt.show()"
   ]
  },
  {
   "cell_type": "markdown",
   "metadata": {},
   "source": [
    "- Dari grafik data jenis kelamin, diketahui bahwa jenis kelamin pria lebih banyak dibandingkan dengan wanita.\n",
    "- Dari grafik data merokok, diketahui bahwa lebih banyak orang yang tidak merokok.\n",
    "- Dari grafik daerah, diketahui bahwa paling banyak orang dari daerah southeast."
   ]
  },
  {
   "cell_type": "markdown",
   "metadata": {},
   "source": [
    "## Klasifikasi Kolom Smoker Berdasarkan Kolom Sex"
   ]
  },
  {
   "cell_type": "code",
   "execution_count": 81,
   "metadata": {},
   "outputs": [
    {
     "data": {
      "image/png": "[encoded data removed]",
      "text/plain": [
       "<Figure size 1200x600 with 1 Axes>"
      ]
     },
     "metadata": {},
     "output_type": "display_data"
    }
   ],
   "source": [
    "# Menghitung frekuensi kombinasi dari kolom smoker dan sex\n",
    "grouped_data = data.groupby(['smoker', 'sex']).size().reset_index(name='counts')\n",
    "\n",
    "# Menggunakan pivot untuk mengubah data yang digroupkan menjadi format\n",
    "# yang sesuai untuk grouped bar chart\n",
    "pivot_data = grouped_data.pivot(index='smoker', columns='sex', values='counts').fillna(0)\n",
    "\n",
    "# Membuat grouped bar chart\n",
    "ax = pivot_data.plot(kind='bar', figsize=(12, 6), zorder=2)\n",
    "\n",
    "# Menambahkan label dan judul\n",
    "ax.set_xlabel('Data merokok')\n",
    "ax.set_ylabel('Frekuensi')\n",
    "ax.set_title('Frekuensi orang merokok berdasarkan jenis kelamin')\n",
    "ax.grid(zorder=1)\n",
    "\n",
    "# Menampilkan grafik\n",
    "plt.xticks(rotation=0)\n",
    "plt.show()"
   ]
  },
  {
   "cell_type": "markdown",
   "metadata": {},
   "source": [
    "Dari grafik frekuensi orang merokok berdasarkan jenis kelamin, diketahui bahwa orang yang merokok lebih banyak berjenis kelamin pria, dan orang yang tidak merokok lebih banyak yang berjenis kelamin wanita."
   ]
  },
  {
   "cell_type": "markdown",
   "metadata": {},
   "source": [
    "# Feature Engineering"
   ]
  },
  {
   "cell_type": "markdown",
   "metadata": {},
   "source": [
    "## Handling Missing Value"
   ]
  },
  {
   "cell_type": "code",
   "execution_count": 82,
   "metadata": {},
   "outputs": [
    {
     "data": {
      "text/plain": [
       "age         0\n",
       "sex         0\n",
       "bmi         0\n",
       "children    0\n",
       "smoker      0\n",
       "region      0\n",
       "charges     0\n",
       "dtype: int64"
      ]
     },
     "execution_count": 82,
     "metadata": {},
     "output_type": "execute_result"
    }
   ],
   "source": [
    "# Melihat apakah ada missing value pada tabel data\n",
    "data.isnull().sum()"
   ]
  },
  {
   "cell_type": "markdown",
   "metadata": {},
   "source": [
    "Tabel data tidak memiliki missing value pada semua kolom nya."
   ]
  },
  {
   "cell_type": "markdown",
   "metadata": {},
   "source": [
    "## Handling Cardinality"
   ]
  },
  {
   "cell_type": "code",
   "execution_count": 83,
   "metadata": {},
   "outputs": [
    {
     "data": {
      "text/html": [
       "<div>\n",
       "<style scoped>\n",
       "    .dataframe tbody tr th:only-of-type {\n",
       "        vertical-align: middle;\n",
       "    }\n",
       "\n",
       "    .dataframe tbody tr th {\n",
       "        vertical-align: top;\n",
       "    }\n",
       "\n",
       "    .dataframe thead th {\n",
       "        text-align: right;\n",
       "    }\n",
       "</style>\n",
       "<table border=\"1\" class=\"dataframe\">\n",
       "  <thead>\n",
       "    <tr style=\"text-align: right;\">\n",
       "      <th></th>\n",
       "      <th>Nama Kolom</th>\n",
       "      <th>Jumlah Unique Value</th>\n",
       "      <th>Nilai Unique</th>\n",
       "    </tr>\n",
       "  </thead>\n",
       "  <tbody>\n",
       "    <tr>\n",
       "      <th>0</th>\n",
       "      <td>sex</td>\n",
       "      <td>2</td>\n",
       "      <td>[female, male]</td>\n",
       "    </tr>\n",
       "    <tr>\n",
       "      <th>1</th>\n",
       "      <td>smoker</td>\n",
       "      <td>2</td>\n",
       "      <td>[yes, no]</td>\n",
       "    </tr>\n",
       "    <tr>\n",
       "      <th>2</th>\n",
       "      <td>region</td>\n",
       "      <td>4</td>\n",
       "      <td>[southwest, southeast, northwest, northeast]</td>\n",
       "    </tr>\n",
       "  </tbody>\n",
       "</table>\n",
       "</div>"
      ],
      "text/plain": [
       "  Nama Kolom  Jumlah Unique Value  \\\n",
       "0        sex                    2   \n",
       "1     smoker                    2   \n",
       "2     region                    4   \n",
       "\n",
       "                                   Nilai Unique  \n",
       "0                                [female, male]  \n",
       "1                                     [yes, no]  \n",
       "2  [southwest, southeast, northwest, northeast]  "
      ]
     },
     "execution_count": 83,
     "metadata": {},
     "output_type": "execute_result"
    }
   ],
   "source": [
    "# Melihat unique value dari setiap kolom kategorik\n",
    "pd.set_option('display.max_colwidth', None)\n",
    "\n",
    "cat_cols = list(data.select_dtypes(include='object').columns)\n",
    "\n",
    "listItem = []\n",
    "for col in cat_cols:\n",
    "  listItem.append([col, data[col].nunique(), data[col].unique()])\n",
    "\n",
    "pd.DataFrame(columns=['Nama Kolom', 'Jumlah Unique Value', 'Nilai Unique'], data=listItem)"
   ]
  },
  {
   "cell_type": "markdown",
   "metadata": {},
   "source": [
    "Karena semua kolom memiliki low cardinality, maka tidak perlu di handling."
   ]
  },
  {
   "cell_type": "markdown",
   "metadata": {},
   "source": [
    "## Mencari Korelasi antar Variabel"
   ]
  },
  {
   "cell_type": "markdown",
   "metadata": {},
   "source": [
    "Karena variabel yang ingin dianalisis adalah variabel charges, maka variabel tersebut yang akan dicari korelasinya dengan variabel-variabel lain."
   ]
  },
  {
   "cell_type": "markdown",
   "metadata": {},
   "source": [
    "### Mencari korelasi variabel price dengan variabel kategorikal"
   ]
  },
  {
   "cell_type": "code",
   "execution_count": 84,
   "metadata": {},
   "outputs": [
    {
     "data": {
      "text/plain": [
       "['sex', 'smoker', 'region']"
      ]
     },
     "execution_count": 84,
     "metadata": {},
     "output_type": "execute_result"
    }
   ],
   "source": [
    "# Melihat kolom mana saja yang bertipe object pada data\n",
    "kolom_object = data.dtypes[data.dtypes == 'object'].index.tolist()\n",
    "kolom_object"
   ]
  },
  {
   "cell_type": "markdown",
   "metadata": {},
   "source": [
    "Karena input nya adalah kolom-kolom yang bertipe kategorik dan output nya adalah kolom charges yang bertipe numerik, maka untuk mencari korelasi antara kolom charges dengan kolom-kolom lain, adalah dengan menggunakan kendall's correlation.\n",
    "\n",
    "Kendall's Correlation:\n",
    "- H0: Tidak ada korelasi antara kedua variabel.\n",
    "- H1: Ada korelasi antara kedua variabel."
   ]
  },
  {
   "cell_type": "code",
   "execution_count": 85,
   "metadata": {},
   "outputs": [
    {
     "name": "stdout",
     "output_type": "stream",
     "text": [
      "tau-correlation: 0.01, p-value: 0.7285979314958788\n"
     ]
    }
   ],
   "source": [
    "# Mencari korelasi antara kolom charges dengan sex\n",
    "corr_tau, pval_k = stats.kendalltau(data['charges'], data['sex'])\n",
    "print(f\"tau-correlation: {corr_tau:.2f}, p-value: {pval_k}\")"
   ]
  },
  {
   "cell_type": "markdown",
   "metadata": {},
   "source": [
    "Karena nilai p-value nya adalah 0.7285979314958788, yaitu lebih dari 0.05, maka H0 diterima dan H1 ditolak, artinya tidak terdapat korelasi antara variabel charges dengan sex. Namun, dari nilai tau nya yaitu 0.01, artinya korelasinya sangat lemah dan hubungannya searah."
   ]
  },
  {
   "cell_type": "code",
   "execution_count": 86,
   "metadata": {},
   "outputs": [
    {
     "name": "stdout",
     "output_type": "stream",
     "text": [
      "tau-correlation: 0.54, p-value: 5.2590182674985486e-130\n"
     ]
    }
   ],
   "source": [
    "# Mencari korelasi antara kolom charges dengan smoker\n",
    "corr_tau, pval_k = stats.kendalltau(data['charges'], data['smoker'])\n",
    "print(f\"tau-correlation: {corr_tau:.2f}, p-value: {pval_k}\")"
   ]
  },
  {
   "cell_type": "markdown",
   "metadata": {},
   "source": [
    "Karena nilai p-value nya adalah 5.2590182674985486e-130, yaitu kurang dari 0.05, maka H0 ditolak dan H1 diterima, artinya terdapat korelasi antara variabel charges dengan smoker. Namun, dari nilai tau nya yaitu 0.54, artinya korelasinya cukup kuat dan hubungannya searah."
   ]
  },
  {
   "cell_type": "code",
   "execution_count": 87,
   "metadata": {},
   "outputs": [
    {
     "name": "stdout",
     "output_type": "stream",
     "text": [
      "tau-correlation: -0.03, p-value: 0.11540770904943377\n"
     ]
    }
   ],
   "source": [
    "# Mencari korelasi antara kolom charges dengan region\n",
    "corr_tau, pval_k = stats.kendalltau(data['charges'], data['region'])\n",
    "print(f\"tau-correlation: {corr_tau:.2f}, p-value: {pval_k}\")"
   ]
  },
  {
   "cell_type": "markdown",
   "metadata": {},
   "source": [
    "Karena nilai p-value nya adalah 0.11540770904943377, yaitu lebih dari 0.05, maka H0 diterima dan H1 ditolak, artinya tidak terdapat korelasi antara variabel charges dengan region. Namun, dari nilai tau nya yaitu -0.03, artinya korelasinya sangat lemah dan hubungannya berlawanan."
   ]
  },
  {
   "cell_type": "markdown",
   "metadata": {},
   "source": [
    "### Mencari korelasi variabel price dengan variabel numerikal"
   ]
  },
  {
   "cell_type": "markdown",
   "metadata": {},
   "source": [
    "Input adalah kolom-kolom yang bertipe numerik dan output adalah kolom yang bertipe numerik (kolom charges), sehingga untuk mencari korelasi antara kolom charges dengan kolom lainnya, dapat menggunakan korelasi pearson."
   ]
  },
  {
   "cell_type": "code",
   "execution_count": 88,
   "metadata": {},
   "outputs": [
    {
     "data": {
      "text/html": [
       "<div>\n",
       "<style scoped>\n",
       "    .dataframe tbody tr th:only-of-type {\n",
       "        vertical-align: middle;\n",
       "    }\n",
       "\n",
       "    .dataframe tbody tr th {\n",
       "        vertical-align: top;\n",
       "    }\n",
       "\n",
       "    .dataframe thead th {\n",
       "        text-align: right;\n",
       "    }\n",
       "</style>\n",
       "<table border=\"1\" class=\"dataframe\">\n",
       "  <thead>\n",
       "    <tr style=\"text-align: right;\">\n",
       "      <th></th>\n",
       "      <th>age</th>\n",
       "      <th>bmi</th>\n",
       "      <th>children</th>\n",
       "      <th>charges</th>\n",
       "    </tr>\n",
       "  </thead>\n",
       "  <tbody>\n",
       "    <tr>\n",
       "      <th>0</th>\n",
       "      <td>19</td>\n",
       "      <td>27.900</td>\n",
       "      <td>0</td>\n",
       "      <td>16884.92400</td>\n",
       "    </tr>\n",
       "    <tr>\n",
       "      <th>1</th>\n",
       "      <td>18</td>\n",
       "      <td>33.770</td>\n",
       "      <td>1</td>\n",
       "      <td>1725.55230</td>\n",
       "    </tr>\n",
       "    <tr>\n",
       "      <th>2</th>\n",
       "      <td>28</td>\n",
       "      <td>33.000</td>\n",
       "      <td>3</td>\n",
       "      <td>4449.46200</td>\n",
       "    </tr>\n",
       "    <tr>\n",
       "      <th>3</th>\n",
       "      <td>33</td>\n",
       "      <td>22.705</td>\n",
       "      <td>0</td>\n",
       "      <td>21984.47061</td>\n",
       "    </tr>\n",
       "    <tr>\n",
       "      <th>4</th>\n",
       "      <td>32</td>\n",
       "      <td>28.880</td>\n",
       "      <td>0</td>\n",
       "      <td>3866.85520</td>\n",
       "    </tr>\n",
       "    <tr>\n",
       "      <th>...</th>\n",
       "      <td>...</td>\n",
       "      <td>...</td>\n",
       "      <td>...</td>\n",
       "      <td>...</td>\n",
       "    </tr>\n",
       "    <tr>\n",
       "      <th>1333</th>\n",
       "      <td>50</td>\n",
       "      <td>30.970</td>\n",
       "      <td>3</td>\n",
       "      <td>10600.54830</td>\n",
       "    </tr>\n",
       "    <tr>\n",
       "      <th>1334</th>\n",
       "      <td>18</td>\n",
       "      <td>31.920</td>\n",
       "      <td>0</td>\n",
       "      <td>2205.98080</td>\n",
       "    </tr>\n",
       "    <tr>\n",
       "      <th>1335</th>\n",
       "      <td>18</td>\n",
       "      <td>36.850</td>\n",
       "      <td>0</td>\n",
       "      <td>1629.83350</td>\n",
       "    </tr>\n",
       "    <tr>\n",
       "      <th>1336</th>\n",
       "      <td>21</td>\n",
       "      <td>25.800</td>\n",
       "      <td>0</td>\n",
       "      <td>2007.94500</td>\n",
       "    </tr>\n",
       "    <tr>\n",
       "      <th>1337</th>\n",
       "      <td>61</td>\n",
       "      <td>29.070</td>\n",
       "      <td>0</td>\n",
       "      <td>29141.36030</td>\n",
       "    </tr>\n",
       "  </tbody>\n",
       "</table>\n",
       "<p>1338 rows × 4 columns</p>\n",
       "</div>"
      ],
      "text/plain": [
       "      age     bmi  children      charges\n",
       "0      19  27.900         0  16884.92400\n",
       "1      18  33.770         1   1725.55230\n",
       "2      28  33.000         3   4449.46200\n",
       "3      33  22.705         0  21984.47061\n",
       "4      32  28.880         0   3866.85520\n",
       "...   ...     ...       ...          ...\n",
       "1333   50  30.970         3  10600.54830\n",
       "1334   18  31.920         0   2205.98080\n",
       "1335   18  36.850         0   1629.83350\n",
       "1336   21  25.800         0   2007.94500\n",
       "1337   61  29.070         0  29141.36030\n",
       "\n",
       "[1338 rows x 4 columns]"
      ]
     },
     "execution_count": 88,
     "metadata": {},
     "output_type": "execute_result"
    }
   ],
   "source": [
    "# Melihat kolom-kolom yang numerik dari tabel data\n",
    "data_numerik = data.select_dtypes(include=['float64', 'int64'])\n",
    "data_numerik"
   ]
  },
  {
   "cell_type": "code",
   "execution_count": 89,
   "metadata": {},
   "outputs": [
    {
     "data": {
      "text/html": [
       "<div>\n",
       "<style scoped>\n",
       "    .dataframe tbody tr th:only-of-type {\n",
       "        vertical-align: middle;\n",
       "    }\n",
       "\n",
       "    .dataframe tbody tr th {\n",
       "        vertical-align: top;\n",
       "    }\n",
       "\n",
       "    .dataframe thead th {\n",
       "        text-align: right;\n",
       "    }\n",
       "</style>\n",
       "<table border=\"1\" class=\"dataframe\">\n",
       "  <thead>\n",
       "    <tr style=\"text-align: right;\">\n",
       "      <th></th>\n",
       "      <th>age</th>\n",
       "      <th>bmi</th>\n",
       "      <th>children</th>\n",
       "      <th>charges</th>\n",
       "    </tr>\n",
       "  </thead>\n",
       "  <tbody>\n",
       "    <tr>\n",
       "      <th>age</th>\n",
       "      <td>1.000000</td>\n",
       "      <td>0.109272</td>\n",
       "      <td>0.042469</td>\n",
       "      <td>0.299008</td>\n",
       "    </tr>\n",
       "    <tr>\n",
       "      <th>bmi</th>\n",
       "      <td>0.109272</td>\n",
       "      <td>1.000000</td>\n",
       "      <td>0.012759</td>\n",
       "      <td>0.198341</td>\n",
       "    </tr>\n",
       "    <tr>\n",
       "      <th>children</th>\n",
       "      <td>0.042469</td>\n",
       "      <td>0.012759</td>\n",
       "      <td>1.000000</td>\n",
       "      <td>0.067998</td>\n",
       "    </tr>\n",
       "    <tr>\n",
       "      <th>charges</th>\n",
       "      <td>0.299008</td>\n",
       "      <td>0.198341</td>\n",
       "      <td>0.067998</td>\n",
       "      <td>1.000000</td>\n",
       "    </tr>\n",
       "  </tbody>\n",
       "</table>\n",
       "</div>"
      ],
      "text/plain": [
       "               age       bmi  children   charges\n",
       "age       1.000000  0.109272  0.042469  0.299008\n",
       "bmi       0.109272  1.000000  0.012759  0.198341\n",
       "children  0.042469  0.012759  1.000000  0.067998\n",
       "charges   0.299008  0.198341  0.067998  1.000000"
      ]
     },
     "execution_count": 89,
     "metadata": {},
     "output_type": "execute_result"
    }
   ],
   "source": [
    "# Menghitung matriks korelasi antara kolom-kolom yang numerik dari tabel data menggunakan data_numerik\n",
    "data_numerik.corr()"
   ]
  },
  {
   "cell_type": "markdown",
   "metadata": {},
   "source": [
    "Dari nilai korelasi tersebut, dilihat bahwa nilai korelasi yang paling tinggi terhadap variabel charges adalah variabel age, yaitu bernilai 0.299008 dan variabel bmi, yaitu bernilai 0.198341."
   ]
  },
  {
   "cell_type": "markdown",
   "metadata": {},
   "source": [
    "### Kesimpulan"
   ]
  },
  {
   "cell_type": "markdown",
   "metadata": {},
   "source": [
    "Variabel sex, region, dan children memiliki nilai korelasi yang rendah, maka variabel tersebut dapat di drop"
   ]
  },
  {
   "cell_type": "markdown",
   "metadata": {},
   "source": [
    "## Feature Selection"
   ]
  },
  {
   "cell_type": "code",
   "execution_count": 90,
   "metadata": {},
   "outputs": [],
   "source": [
    "# Menghapus kolom sex, region, dan children\n",
    "data.drop(['sex', 'region', 'children'], axis=1, inplace=True)"
   ]
  },
  {
   "cell_type": "code",
   "execution_count": 91,
   "metadata": {},
   "outputs": [
    {
     "data": {
      "text/html": [
       "<div>\n",
       "<style scoped>\n",
       "    .dataframe tbody tr th:only-of-type {\n",
       "        vertical-align: middle;\n",
       "    }\n",
       "\n",
       "    .dataframe tbody tr th {\n",
       "        vertical-align: top;\n",
       "    }\n",
       "\n",
       "    .dataframe thead th {\n",
       "        text-align: right;\n",
       "    }\n",
       "</style>\n",
       "<table border=\"1\" class=\"dataframe\">\n",
       "  <thead>\n",
       "    <tr style=\"text-align: right;\">\n",
       "      <th></th>\n",
       "      <th>age</th>\n",
       "      <th>bmi</th>\n",
       "      <th>smoker</th>\n",
       "      <th>charges</th>\n",
       "    </tr>\n",
       "  </thead>\n",
       "  <tbody>\n",
       "    <tr>\n",
       "      <th>0</th>\n",
       "      <td>19</td>\n",
       "      <td>27.900</td>\n",
       "      <td>yes</td>\n",
       "      <td>16884.92400</td>\n",
       "    </tr>\n",
       "    <tr>\n",
       "      <th>1</th>\n",
       "      <td>18</td>\n",
       "      <td>33.770</td>\n",
       "      <td>no</td>\n",
       "      <td>1725.55230</td>\n",
       "    </tr>\n",
       "    <tr>\n",
       "      <th>2</th>\n",
       "      <td>28</td>\n",
       "      <td>33.000</td>\n",
       "      <td>no</td>\n",
       "      <td>4449.46200</td>\n",
       "    </tr>\n",
       "    <tr>\n",
       "      <th>3</th>\n",
       "      <td>33</td>\n",
       "      <td>22.705</td>\n",
       "      <td>no</td>\n",
       "      <td>21984.47061</td>\n",
       "    </tr>\n",
       "    <tr>\n",
       "      <th>4</th>\n",
       "      <td>32</td>\n",
       "      <td>28.880</td>\n",
       "      <td>no</td>\n",
       "      <td>3866.85520</td>\n",
       "    </tr>\n",
       "    <tr>\n",
       "      <th>...</th>\n",
       "      <td>...</td>\n",
       "      <td>...</td>\n",
       "      <td>...</td>\n",
       "      <td>...</td>\n",
       "    </tr>\n",
       "    <tr>\n",
       "      <th>1333</th>\n",
       "      <td>50</td>\n",
       "      <td>30.970</td>\n",
       "      <td>no</td>\n",
       "      <td>10600.54830</td>\n",
       "    </tr>\n",
       "    <tr>\n",
       "      <th>1334</th>\n",
       "      <td>18</td>\n",
       "      <td>31.920</td>\n",
       "      <td>no</td>\n",
       "      <td>2205.98080</td>\n",
       "    </tr>\n",
       "    <tr>\n",
       "      <th>1335</th>\n",
       "      <td>18</td>\n",
       "      <td>36.850</td>\n",
       "      <td>no</td>\n",
       "      <td>1629.83350</td>\n",
       "    </tr>\n",
       "    <tr>\n",
       "      <th>1336</th>\n",
       "      <td>21</td>\n",
       "      <td>25.800</td>\n",
       "      <td>no</td>\n",
       "      <td>2007.94500</td>\n",
       "    </tr>\n",
       "    <tr>\n",
       "      <th>1337</th>\n",
       "      <td>61</td>\n",
       "      <td>29.070</td>\n",
       "      <td>yes</td>\n",
       "      <td>29141.36030</td>\n",
       "    </tr>\n",
       "  </tbody>\n",
       "</table>\n",
       "<p>1338 rows × 4 columns</p>\n",
       "</div>"
      ],
      "text/plain": [
       "      age     bmi smoker      charges\n",
       "0      19  27.900    yes  16884.92400\n",
       "1      18  33.770     no   1725.55230\n",
       "2      28  33.000     no   4449.46200\n",
       "3      33  22.705     no  21984.47061\n",
       "4      32  28.880     no   3866.85520\n",
       "...   ...     ...    ...          ...\n",
       "1333   50  30.970     no  10600.54830\n",
       "1334   18  31.920     no   2205.98080\n",
       "1335   18  36.850     no   1629.83350\n",
       "1336   21  25.800     no   2007.94500\n",
       "1337   61  29.070    yes  29141.36030\n",
       "\n",
       "[1338 rows x 4 columns]"
      ]
     },
     "execution_count": 91,
     "metadata": {},
     "output_type": "execute_result"
    }
   ],
   "source": [
    "# Melihat isi data secara keseluruhan\n",
    "data"
   ]
  },
  {
   "cell_type": "markdown",
   "metadata": {},
   "source": [
    "Maka, kolom yang akan digunakan hanya age, bmi, smoker, dan charges."
   ]
  },
  {
   "cell_type": "markdown",
   "metadata": {},
   "source": [
    "## Spliting Data"
   ]
  },
  {
   "cell_type": "code",
   "execution_count": 92,
   "metadata": {},
   "outputs": [
    {
     "data": {
      "text/html": [
       "<div>\n",
       "<style scoped>\n",
       "    .dataframe tbody tr th:only-of-type {\n",
       "        vertical-align: middle;\n",
       "    }\n",
       "\n",
       "    .dataframe tbody tr th {\n",
       "        vertical-align: top;\n",
       "    }\n",
       "\n",
       "    .dataframe thead th {\n",
       "        text-align: right;\n",
       "    }\n",
       "</style>\n",
       "<table border=\"1\" class=\"dataframe\">\n",
       "  <thead>\n",
       "    <tr style=\"text-align: right;\">\n",
       "      <th></th>\n",
       "      <th>age</th>\n",
       "      <th>bmi</th>\n",
       "      <th>smoker</th>\n",
       "      <th>charges</th>\n",
       "    </tr>\n",
       "  </thead>\n",
       "  <tbody>\n",
       "    <tr>\n",
       "      <th>0</th>\n",
       "      <td>19</td>\n",
       "      <td>27.900</td>\n",
       "      <td>yes</td>\n",
       "      <td>16884.92400</td>\n",
       "    </tr>\n",
       "    <tr>\n",
       "      <th>1</th>\n",
       "      <td>18</td>\n",
       "      <td>33.770</td>\n",
       "      <td>no</td>\n",
       "      <td>1725.55230</td>\n",
       "    </tr>\n",
       "    <tr>\n",
       "      <th>2</th>\n",
       "      <td>28</td>\n",
       "      <td>33.000</td>\n",
       "      <td>no</td>\n",
       "      <td>4449.46200</td>\n",
       "    </tr>\n",
       "    <tr>\n",
       "      <th>3</th>\n",
       "      <td>33</td>\n",
       "      <td>22.705</td>\n",
       "      <td>no</td>\n",
       "      <td>21984.47061</td>\n",
       "    </tr>\n",
       "    <tr>\n",
       "      <th>4</th>\n",
       "      <td>32</td>\n",
       "      <td>28.880</td>\n",
       "      <td>no</td>\n",
       "      <td>3866.85520</td>\n",
       "    </tr>\n",
       "    <tr>\n",
       "      <th>...</th>\n",
       "      <td>...</td>\n",
       "      <td>...</td>\n",
       "      <td>...</td>\n",
       "      <td>...</td>\n",
       "    </tr>\n",
       "    <tr>\n",
       "      <th>1333</th>\n",
       "      <td>50</td>\n",
       "      <td>30.970</td>\n",
       "      <td>no</td>\n",
       "      <td>10600.54830</td>\n",
       "    </tr>\n",
       "    <tr>\n",
       "      <th>1334</th>\n",
       "      <td>18</td>\n",
       "      <td>31.920</td>\n",
       "      <td>no</td>\n",
       "      <td>2205.98080</td>\n",
       "    </tr>\n",
       "    <tr>\n",
       "      <th>1335</th>\n",
       "      <td>18</td>\n",
       "      <td>36.850</td>\n",
       "      <td>no</td>\n",
       "      <td>1629.83350</td>\n",
       "    </tr>\n",
       "    <tr>\n",
       "      <th>1336</th>\n",
       "      <td>21</td>\n",
       "      <td>25.800</td>\n",
       "      <td>no</td>\n",
       "      <td>2007.94500</td>\n",
       "    </tr>\n",
       "    <tr>\n",
       "      <th>1337</th>\n",
       "      <td>61</td>\n",
       "      <td>29.070</td>\n",
       "      <td>yes</td>\n",
       "      <td>29141.36030</td>\n",
       "    </tr>\n",
       "  </tbody>\n",
       "</table>\n",
       "<p>1338 rows × 4 columns</p>\n",
       "</div>"
      ],
      "text/plain": [
       "      age     bmi smoker      charges\n",
       "0      19  27.900    yes  16884.92400\n",
       "1      18  33.770     no   1725.55230\n",
       "2      28  33.000     no   4449.46200\n",
       "3      33  22.705     no  21984.47061\n",
       "4      32  28.880     no   3866.85520\n",
       "...   ...     ...    ...          ...\n",
       "1333   50  30.970     no  10600.54830\n",
       "1334   18  31.920     no   2205.98080\n",
       "1335   18  36.850     no   1629.83350\n",
       "1336   21  25.800     no   2007.94500\n",
       "1337   61  29.070    yes  29141.36030\n",
       "\n",
       "[1338 rows x 4 columns]"
      ]
     },
     "execution_count": 92,
     "metadata": {},
     "output_type": "execute_result"
    }
   ],
   "source": [
    "# Melihat isi tabel data secara keseluruhan\n",
    "data"
   ]
  },
  {
   "cell_type": "code",
   "execution_count": 93,
   "metadata": {},
   "outputs": [],
   "source": [
    "# Mendefinisikan X dan y\n",
    "y = data[['charges']]\n",
    "X = data.drop(['charges'], axis=1)"
   ]
  },
  {
   "cell_type": "code",
   "execution_count": 94,
   "metadata": {},
   "outputs": [
    {
     "name": "stdout",
     "output_type": "stream",
     "text": [
      "Ukuran dari data X: (1338, 3)\n",
      "Ukuran dari data y: (1338, 1)\n"
     ]
    }
   ],
   "source": [
    "# Melihat ukuran dari data X dan y\n",
    "print(f'Ukuran dari data X: {X.shape}')\n",
    "print(f'Ukuran dari data y: {y.shape}')"
   ]
  },
  {
   "cell_type": "code",
   "execution_count": 95,
   "metadata": {},
   "outputs": [],
   "source": [
    "# Splitting dataset menjadi data train dan test\n",
    "# Training data sebanyak 70% dan testing data sebanyak 30%\n",
    "x_train, x_test, y_train, y_test = train_test_split(X,y, test_size=0.3, random_state=15)"
   ]
  },
  {
   "cell_type": "code",
   "execution_count": 96,
   "metadata": {},
   "outputs": [
    {
     "name": "stdout",
     "output_type": "stream",
     "text": [
      "Ukuran dari data x_train: (936, 3)\n",
      "Ukuran dari data y_train: (936, 1)\n",
      "Ukuran dari data x_test: (402, 3)\n",
      "Ukuran dari data y_test: (402, 1)\n"
     ]
    }
   ],
   "source": [
    "# Melihat ukuran dari data x_train, x_test, y_train, dan y_test\n",
    "print(f'Ukuran dari data x_train: {x_train.shape}')\n",
    "print(f'Ukuran dari data y_train: {y_train.shape}')\n",
    "print(f'Ukuran dari data x_test: {x_test.shape}')\n",
    "print(f'Ukuran dari data y_test: {y_test.shape}')"
   ]
  },
  {
   "cell_type": "markdown",
   "metadata": {},
   "source": [
    "Splitting data berhasil dilakukan."
   ]
  },
  {
   "cell_type": "markdown",
   "metadata": {},
   "source": [
    "## Handling Outlier"
   ]
  },
  {
   "cell_type": "code",
   "execution_count": 97,
   "metadata": {},
   "outputs": [
    {
     "data": {
      "text/html": [
       "<div>\n",
       "<style scoped>\n",
       "    .dataframe tbody tr th:only-of-type {\n",
       "        vertical-align: middle;\n",
       "    }\n",
       "\n",
       "    .dataframe tbody tr th {\n",
       "        vertical-align: top;\n",
       "    }\n",
       "\n",
       "    .dataframe thead th {\n",
       "        text-align: right;\n",
       "    }\n",
       "</style>\n",
       "<table border=\"1\" class=\"dataframe\">\n",
       "  <thead>\n",
       "    <tr style=\"text-align: right;\">\n",
       "      <th></th>\n",
       "      <th>Nama kolom</th>\n",
       "      <th>Nilai skewness</th>\n",
       "    </tr>\n",
       "  </thead>\n",
       "  <tbody>\n",
       "    <tr>\n",
       "      <th>0</th>\n",
       "      <td>age</td>\n",
       "      <td>0.014678</td>\n",
       "    </tr>\n",
       "    <tr>\n",
       "      <th>1</th>\n",
       "      <td>bmi</td>\n",
       "      <td>0.292281</td>\n",
       "    </tr>\n",
       "  </tbody>\n",
       "</table>\n",
       "</div>"
      ],
      "text/plain": [
       "  Nama kolom  Nilai skewness\n",
       "0        age        0.014678\n",
       "1        bmi        0.292281"
      ]
     },
     "execution_count": 97,
     "metadata": {},
     "output_type": "execute_result"
    }
   ],
   "source": [
    "# Melihat nilai skewness dari semua kolom numerik\n",
    "num_cols = list(x_train.select_dtypes(exclude='object').columns)\n",
    "\n",
    "listItem= []\n",
    "\n",
    "for col in num_cols:\n",
    "  listItem.append([col, x_train[col].skew()])\n",
    "\n",
    "pd.DataFrame(columns=['Nama kolom', 'Nilai skewness'], data= listItem)"
   ]
  },
  {
   "cell_type": "markdown",
   "metadata": {},
   "source": [
    "Karena kedua kolom memiliki distribusi normal, maka akan menggunakan metode gaussian."
   ]
  },
  {
   "cell_type": "code",
   "execution_count": 98,
   "metadata": {},
   "outputs": [],
   "source": [
    "# Capping untuk distribusi normal\n",
    "winsoriser_normal = Winsorizer(capping_method='gaussian',\n",
    "                            tail='both',\n",
    "                            fold=3,\n",
    "                            variables=['age', 'bmi'],\n",
    "                            missing_values='ignore')\n",
    "\n",
    "x_train = winsoriser_normal.fit_transform(x_train)\n",
    "x_test = winsoriser_normal.transform(x_test)"
   ]
  },
  {
   "cell_type": "code",
   "execution_count": 99,
   "metadata": {},
   "outputs": [
    {
     "data": {
      "image/png": "[encoded data removed]",
      "text/plain": [
       "<Figure size 1200x600 with 2 Axes>"
      ]
     },
     "metadata": {},
     "output_type": "display_data"
    }
   ],
   "source": [
    "# Membuat plot untuk kolom age dan bmi\n",
    "fig, axes = plt.subplots(nrows=1, ncols=2, figsize=(12, 6))\n",
    "\n",
    "sns.boxplot(x=data['age'], ax=axes[0])\n",
    "sns.boxplot(x=data['bmi'], ax=axes[1])\n",
    "\n",
    "axes[0].set_title('Boxplot kolom age')\n",
    "axes[1].set_title('Boxplot kolom bmi')\n",
    "\n",
    "# Menampilkan plot\n",
    "plt.show()"
   ]
  },
  {
   "cell_type": "markdown",
   "metadata": {},
   "source": [
    "Handling outlier berhasil dilakukan."
   ]
  },
  {
   "cell_type": "code",
   "execution_count": 100,
   "metadata": {},
   "outputs": [
    {
     "name": "stdout",
     "output_type": "stream",
     "text": [
      "Jumlah baris dari x_train: 936\n",
      "Jumlah baris dari y_train: 936\n",
      "Jumlah baris dari x_test: 402\n",
      "Jumlah baris dari y_test: 402\n"
     ]
    }
   ],
   "source": [
    "# Melihat jumlah baris dalam data train dan test\n",
    "print(f'Jumlah baris dari x_train: {len(x_train)}')\n",
    "print(f'Jumlah baris dari y_train: {len(y_train)}')\n",
    "print(f'Jumlah baris dari x_test: {len(x_test)}')\n",
    "print(f'Jumlah baris dari y_test: {len(y_test)}')"
   ]
  },
  {
   "cell_type": "markdown",
   "metadata": {},
   "source": [
    "Ukuran data train dan test sudah sesuai."
   ]
  },
  {
   "cell_type": "markdown",
   "metadata": {},
   "source": [
    "## Split antara data kategorikal dan numerikal"
   ]
  },
  {
   "cell_type": "code",
   "execution_count": 101,
   "metadata": {},
   "outputs": [
    {
     "name": "stdout",
     "output_type": "stream",
     "text": [
      "Kolom Numerical:  ['age', 'bmi']\n",
      "Kolom Categorical:  ['smoker']\n"
     ]
    }
   ],
   "source": [
    "# Melihat mana data numeric and categorical\n",
    "num_columns = x_train.select_dtypes(include = np.number).columns.tolist()\n",
    "cat_columns = x_train.select_dtypes(include = ['object']).columns.tolist()\n",
    "\n",
    "print('Kolom Numerical: ', num_columns)\n",
    "print('Kolom Categorical: ', cat_columns)"
   ]
  },
  {
   "cell_type": "code",
   "execution_count": 102,
   "metadata": {},
   "outputs": [],
   "source": [
    "# Split numerical columns dan categorical columns\n",
    "x_train_num = x_train[num_columns]\n",
    "x_train_cat = x_train[cat_columns]\n",
    "\n",
    "x_test_num = x_test[num_columns]\n",
    "x_test_cat = x_test[cat_columns]"
   ]
  },
  {
   "cell_type": "code",
   "execution_count": 103,
   "metadata": {},
   "outputs": [
    {
     "data": {
      "text/html": [
       "<div>\n",
       "<style scoped>\n",
       "    .dataframe tbody tr th:only-of-type {\n",
       "        vertical-align: middle;\n",
       "    }\n",
       "\n",
       "    .dataframe tbody tr th {\n",
       "        vertical-align: top;\n",
       "    }\n",
       "\n",
       "    .dataframe thead th {\n",
       "        text-align: right;\n",
       "    }\n",
       "</style>\n",
       "<table border=\"1\" class=\"dataframe\">\n",
       "  <thead>\n",
       "    <tr style=\"text-align: right;\">\n",
       "      <th></th>\n",
       "      <th>age</th>\n",
       "      <th>bmi</th>\n",
       "    </tr>\n",
       "  </thead>\n",
       "  <tbody>\n",
       "    <tr>\n",
       "      <th>525</th>\n",
       "      <td>18</td>\n",
       "      <td>33.880</td>\n",
       "    </tr>\n",
       "    <tr>\n",
       "      <th>183</th>\n",
       "      <td>44</td>\n",
       "      <td>26.410</td>\n",
       "    </tr>\n",
       "    <tr>\n",
       "      <th>821</th>\n",
       "      <td>26</td>\n",
       "      <td>17.670</td>\n",
       "    </tr>\n",
       "    <tr>\n",
       "      <th>1237</th>\n",
       "      <td>58</td>\n",
       "      <td>28.215</td>\n",
       "    </tr>\n",
       "    <tr>\n",
       "      <th>1185</th>\n",
       "      <td>45</td>\n",
       "      <td>23.560</td>\n",
       "    </tr>\n",
       "    <tr>\n",
       "      <th>...</th>\n",
       "      <td>...</td>\n",
       "      <td>...</td>\n",
       "    </tr>\n",
       "    <tr>\n",
       "      <th>1223</th>\n",
       "      <td>20</td>\n",
       "      <td>24.420</td>\n",
       "    </tr>\n",
       "    <tr>\n",
       "      <th>667</th>\n",
       "      <td>40</td>\n",
       "      <td>32.775</td>\n",
       "    </tr>\n",
       "    <tr>\n",
       "      <th>156</th>\n",
       "      <td>48</td>\n",
       "      <td>24.420</td>\n",
       "    </tr>\n",
       "    <tr>\n",
       "      <th>384</th>\n",
       "      <td>44</td>\n",
       "      <td>22.135</td>\n",
       "    </tr>\n",
       "    <tr>\n",
       "      <th>645</th>\n",
       "      <td>48</td>\n",
       "      <td>30.780</td>\n",
       "    </tr>\n",
       "  </tbody>\n",
       "</table>\n",
       "<p>936 rows × 2 columns</p>\n",
       "</div>"
      ],
      "text/plain": [
       "      age     bmi\n",
       "525    18  33.880\n",
       "183    44  26.410\n",
       "821    26  17.670\n",
       "1237   58  28.215\n",
       "1185   45  23.560\n",
       "...   ...     ...\n",
       "1223   20  24.420\n",
       "667    40  32.775\n",
       "156    48  24.420\n",
       "384    44  22.135\n",
       "645    48  30.780\n",
       "\n",
       "[936 rows x 2 columns]"
      ]
     },
     "execution_count": 103,
     "metadata": {},
     "output_type": "execute_result"
    }
   ],
   "source": [
    "# Melihat isi dari data x_train_num\n",
    "x_train_num"
   ]
  },
  {
   "cell_type": "code",
   "execution_count": 104,
   "metadata": {},
   "outputs": [
    {
     "data": {
      "text/html": [
       "<div>\n",
       "<style scoped>\n",
       "    .dataframe tbody tr th:only-of-type {\n",
       "        vertical-align: middle;\n",
       "    }\n",
       "\n",
       "    .dataframe tbody tr th {\n",
       "        vertical-align: top;\n",
       "    }\n",
       "\n",
       "    .dataframe thead th {\n",
       "        text-align: right;\n",
       "    }\n",
       "</style>\n",
       "<table border=\"1\" class=\"dataframe\">\n",
       "  <thead>\n",
       "    <tr style=\"text-align: right;\">\n",
       "      <th></th>\n",
       "      <th>smoker</th>\n",
       "    </tr>\n",
       "  </thead>\n",
       "  <tbody>\n",
       "    <tr>\n",
       "      <th>525</th>\n",
       "      <td>no</td>\n",
       "    </tr>\n",
       "    <tr>\n",
       "      <th>183</th>\n",
       "      <td>no</td>\n",
       "    </tr>\n",
       "    <tr>\n",
       "      <th>821</th>\n",
       "      <td>no</td>\n",
       "    </tr>\n",
       "    <tr>\n",
       "      <th>1237</th>\n",
       "      <td>no</td>\n",
       "    </tr>\n",
       "    <tr>\n",
       "      <th>1185</th>\n",
       "      <td>no</td>\n",
       "    </tr>\n",
       "    <tr>\n",
       "      <th>...</th>\n",
       "      <td>...</td>\n",
       "    </tr>\n",
       "    <tr>\n",
       "      <th>1223</th>\n",
       "      <td>yes</td>\n",
       "    </tr>\n",
       "    <tr>\n",
       "      <th>667</th>\n",
       "      <td>yes</td>\n",
       "    </tr>\n",
       "    <tr>\n",
       "      <th>156</th>\n",
       "      <td>yes</td>\n",
       "    </tr>\n",
       "    <tr>\n",
       "      <th>384</th>\n",
       "      <td>no</td>\n",
       "    </tr>\n",
       "    <tr>\n",
       "      <th>645</th>\n",
       "      <td>no</td>\n",
       "    </tr>\n",
       "  </tbody>\n",
       "</table>\n",
       "<p>936 rows × 1 columns</p>\n",
       "</div>"
      ],
      "text/plain": [
       "     smoker\n",
       "525      no\n",
       "183      no\n",
       "821      no\n",
       "1237     no\n",
       "1185     no\n",
       "...     ...\n",
       "1223    yes\n",
       "667     yes\n",
       "156     yes\n",
       "384      no\n",
       "645      no\n",
       "\n",
       "[936 rows x 1 columns]"
      ]
     },
     "execution_count": 104,
     "metadata": {},
     "output_type": "execute_result"
    }
   ],
   "source": [
    "# Melihat isi dari data x_train_cat\n",
    "x_train_cat"
   ]
  },
  {
   "cell_type": "code",
   "execution_count": 105,
   "metadata": {},
   "outputs": [
    {
     "data": {
      "text/html": [
       "<div>\n",
       "<style scoped>\n",
       "    .dataframe tbody tr th:only-of-type {\n",
       "        vertical-align: middle;\n",
       "    }\n",
       "\n",
       "    .dataframe tbody tr th {\n",
       "        vertical-align: top;\n",
       "    }\n",
       "\n",
       "    .dataframe thead th {\n",
       "        text-align: right;\n",
       "    }\n",
       "</style>\n",
       "<table border=\"1\" class=\"dataframe\">\n",
       "  <thead>\n",
       "    <tr style=\"text-align: right;\">\n",
       "      <th></th>\n",
       "      <th>age</th>\n",
       "      <th>bmi</th>\n",
       "    </tr>\n",
       "  </thead>\n",
       "  <tbody>\n",
       "    <tr>\n",
       "      <th>38</th>\n",
       "      <td>35</td>\n",
       "      <td>36.670</td>\n",
       "    </tr>\n",
       "    <tr>\n",
       "      <th>126</th>\n",
       "      <td>19</td>\n",
       "      <td>28.300</td>\n",
       "    </tr>\n",
       "    <tr>\n",
       "      <th>479</th>\n",
       "      <td>23</td>\n",
       "      <td>32.560</td>\n",
       "    </tr>\n",
       "    <tr>\n",
       "      <th>10</th>\n",
       "      <td>25</td>\n",
       "      <td>26.220</td>\n",
       "    </tr>\n",
       "    <tr>\n",
       "      <th>195</th>\n",
       "      <td>19</td>\n",
       "      <td>30.590</td>\n",
       "    </tr>\n",
       "    <tr>\n",
       "      <th>...</th>\n",
       "      <td>...</td>\n",
       "      <td>...</td>\n",
       "    </tr>\n",
       "    <tr>\n",
       "      <th>32</th>\n",
       "      <td>19</td>\n",
       "      <td>28.600</td>\n",
       "    </tr>\n",
       "    <tr>\n",
       "      <th>112</th>\n",
       "      <td>37</td>\n",
       "      <td>30.800</td>\n",
       "    </tr>\n",
       "    <tr>\n",
       "      <th>142</th>\n",
       "      <td>34</td>\n",
       "      <td>25.300</td>\n",
       "    </tr>\n",
       "    <tr>\n",
       "      <th>942</th>\n",
       "      <td>18</td>\n",
       "      <td>40.185</td>\n",
       "    </tr>\n",
       "    <tr>\n",
       "      <th>1328</th>\n",
       "      <td>23</td>\n",
       "      <td>24.225</td>\n",
       "    </tr>\n",
       "  </tbody>\n",
       "</table>\n",
       "<p>402 rows × 2 columns</p>\n",
       "</div>"
      ],
      "text/plain": [
       "      age     bmi\n",
       "38     35  36.670\n",
       "126    19  28.300\n",
       "479    23  32.560\n",
       "10     25  26.220\n",
       "195    19  30.590\n",
       "...   ...     ...\n",
       "32     19  28.600\n",
       "112    37  30.800\n",
       "142    34  25.300\n",
       "942    18  40.185\n",
       "1328   23  24.225\n",
       "\n",
       "[402 rows x 2 columns]"
      ]
     },
     "execution_count": 105,
     "metadata": {},
     "output_type": "execute_result"
    }
   ],
   "source": [
    "# Melihat isi dari data x_test_num\n",
    "x_test_num"
   ]
  },
  {
   "cell_type": "code",
   "execution_count": 106,
   "metadata": {},
   "outputs": [
    {
     "data": {
      "text/html": [
       "<div>\n",
       "<style scoped>\n",
       "    .dataframe tbody tr th:only-of-type {\n",
       "        vertical-align: middle;\n",
       "    }\n",
       "\n",
       "    .dataframe tbody tr th {\n",
       "        vertical-align: top;\n",
       "    }\n",
       "\n",
       "    .dataframe thead th {\n",
       "        text-align: right;\n",
       "    }\n",
       "</style>\n",
       "<table border=\"1\" class=\"dataframe\">\n",
       "  <thead>\n",
       "    <tr style=\"text-align: right;\">\n",
       "      <th></th>\n",
       "      <th>smoker</th>\n",
       "    </tr>\n",
       "  </thead>\n",
       "  <tbody>\n",
       "    <tr>\n",
       "      <th>38</th>\n",
       "      <td>yes</td>\n",
       "    </tr>\n",
       "    <tr>\n",
       "      <th>126</th>\n",
       "      <td>yes</td>\n",
       "    </tr>\n",
       "    <tr>\n",
       "      <th>479</th>\n",
       "      <td>no</td>\n",
       "    </tr>\n",
       "    <tr>\n",
       "      <th>10</th>\n",
       "      <td>no</td>\n",
       "    </tr>\n",
       "    <tr>\n",
       "      <th>195</th>\n",
       "      <td>no</td>\n",
       "    </tr>\n",
       "    <tr>\n",
       "      <th>...</th>\n",
       "      <td>...</td>\n",
       "    </tr>\n",
       "    <tr>\n",
       "      <th>32</th>\n",
       "      <td>no</td>\n",
       "    </tr>\n",
       "    <tr>\n",
       "      <th>112</th>\n",
       "      <td>no</td>\n",
       "    </tr>\n",
       "    <tr>\n",
       "      <th>142</th>\n",
       "      <td>yes</td>\n",
       "    </tr>\n",
       "    <tr>\n",
       "      <th>942</th>\n",
       "      <td>no</td>\n",
       "    </tr>\n",
       "    <tr>\n",
       "      <th>1328</th>\n",
       "      <td>no</td>\n",
       "    </tr>\n",
       "  </tbody>\n",
       "</table>\n",
       "<p>402 rows × 1 columns</p>\n",
       "</div>"
      ],
      "text/plain": [
       "     smoker\n",
       "38      yes\n",
       "126     yes\n",
       "479      no\n",
       "10       no\n",
       "195      no\n",
       "...     ...\n",
       "32       no\n",
       "112      no\n",
       "142     yes\n",
       "942      no\n",
       "1328     no\n",
       "\n",
       "[402 rows x 1 columns]"
      ]
     },
     "execution_count": 106,
     "metadata": {},
     "output_type": "execute_result"
    }
   ],
   "source": [
    "# Melihat isi dari data x_test_cat\n",
    "x_test_cat"
   ]
  },
  {
   "cell_type": "markdown",
   "metadata": {},
   "source": [
    "## Scaling"
   ]
  },
  {
   "cell_type": "code",
   "execution_count": 107,
   "metadata": {},
   "outputs": [
    {
     "data": {
      "text/plain": [
       "['age', 'bmi']"
      ]
     },
     "execution_count": 107,
     "metadata": {},
     "output_type": "execute_result"
    }
   ],
   "source": [
    "# Membuat variabel kolom numerik untuk menyimpan kolom-kolom yang bertipe numerik\n",
    "# dari data x_train\n",
    "kolom_numerik = x_train_num.columns.tolist()\n",
    "kolom_numerik"
   ]
  },
  {
   "cell_type": "code",
   "execution_count": 108,
   "metadata": {},
   "outputs": [
    {
     "data": {
      "text/plain": [
       "age    0.014678\n",
       "bmi    0.250256\n",
       "dtype: float64"
      ]
     },
     "execution_count": 108,
     "metadata": {},
     "output_type": "execute_result"
    }
   ],
   "source": [
    "# Melihat nilai skewness untuk kolom-kolom numerik pada data x_train\n",
    "x_train_num[kolom_numerik].skew()"
   ]
  },
  {
   "cell_type": "markdown",
   "metadata": {},
   "source": [
    "Karena semua kolom memiliki distribusi normal, maka dapat menggunakan StandardScaler."
   ]
  },
  {
   "cell_type": "code",
   "execution_count": 109,
   "metadata": {},
   "outputs": [],
   "source": [
    "# Feature Scaling menggunakan StandardScaler\n",
    "scaler = StandardScaler()\n",
    "scaler.fit(x_train_num)\n",
    "\n",
    "x_train_num_scaled = scaler.transform(x_train_num)\n",
    "x_test_num_scaled = scaler.transform(x_test_num)"
   ]
  },
  {
   "cell_type": "code",
   "execution_count": 110,
   "metadata": {},
   "outputs": [
    {
     "data": {
      "text/plain": [
       "array([[-1.53133353,  0.52369218],\n",
       "       [ 0.31254024, -0.70318356],\n",
       "       [-0.96398775, -2.1386446 ],\n",
       "       ...,\n",
       "       [ 0.59621313, -1.03002195],\n",
       "       [ 0.31254024, -1.40531125],\n",
       "       [ 0.59621313,  0.01454696]])"
      ]
     },
     "execution_count": 110,
     "metadata": {},
     "output_type": "execute_result"
    }
   ],
   "source": [
    "# Melihat isi dari data x_train_num_scaled\n",
    "x_train_num_scaled"
   ]
  },
  {
   "cell_type": "code",
   "execution_count": 111,
   "metadata": {},
   "outputs": [
    {
     "data": {
      "text/plain": [
       "array([[-3.25723756e-01,  9.81922881e-01],\n",
       "       [-1.46041531e+00, -3.92769217e-01],\n",
       "       [-1.17674242e+00,  3.06894862e-01],\n",
       "       [-1.03490597e+00, -7.34389236e-01],\n",
       "       [-1.46041531e+00, -1.66587143e-02],\n",
       "       [-1.83887312e-01,  1.78317684e-02],\n",
       "       [-1.03490597e+00, -1.62457217e+00],\n",
       "       [ 3.12540241e-01,  1.21021703e+00],\n",
       "       [ 2.88673531e-02, -2.19495601e-01],\n",
       "       [-1.83887312e-01, -1.41481414e-01],\n",
       "       [-1.53133353e+00,  1.01148615e+00],\n",
       "       [-1.24766064e+00,  6.74793345e-01],\n",
       "       [ 3.12540241e-01,  1.35639098e+00],\n",
       "       [-1.17674242e+00,  1.98050448e+00],\n",
       "       [-4.67560200e-01, -3.97696428e-01],\n",
       "       [ 1.16355890e+00,  4.82632084e-01],\n",
       "       [-1.12969091e-01, -1.87093276e+00],\n",
       "       [-1.12969091e-01, -7.90700640e-02],\n",
       "       [-1.24766064e+00,  1.04761904e+00],\n",
       "       [ 9.97855750e-02,  1.49224084e-01],\n",
       "       [-8.22151309e-01,  4.44856793e-01],\n",
       "       [ 3.83458462e-01, -5.24161532e-01],\n",
       "       [-1.10582420e+00, -6.40772212e-01],\n",
       "       [ 1.30539535e+00,  3.01686136e+00],\n",
       "       [ 8.79886015e-01,  3.01497980e-02],\n",
       "       [-1.83887312e-01,  9.03087492e-01],\n",
       "       [-4.20508687e-02, -1.21807720e+00],\n",
       "       [ 1.37631357e+00, -1.41481414e-01],\n",
       "       [-1.03490597e+00, -7.96800586e-01],\n",
       "       [-1.53133353e+00, -1.21068638e+00],\n",
       "       [ 2.88673531e-02, -9.39689729e-01],\n",
       "       [-7.51233087e-01,  1.33668213e+00],\n",
       "       [-3.96641978e-01, -8.90417610e-01],\n",
       "       [ 1.73090468e+00,  1.02955260e+00],\n",
       "       [-2.54805534e-01, -1.10275739e-01],\n",
       "       [-1.31857886e+00,  1.44508079e+00],\n",
       "       [-6.80314865e-01, -3.75523975e-01],\n",
       "       [-1.24766064e+00, -4.78643892e-02],\n",
       "       [-7.51233087e-01,  7.94688832e-01],\n",
       "       [ 9.97855750e-02,  4.04617896e-01],\n",
       "       [ 1.70703797e-01, -7.40958852e-01],\n",
       "       [ 2.88673531e-02,  3.01497980e-02],\n",
       "       [ 1.58906823e+00,  1.10181837e+00],\n",
       "       [-1.38949708e+00, -1.57084251e-01],\n",
       "       [ 7.38049572e-01, -4.15762872e-01],\n",
       "       [ 9.50804237e-01,  1.08163985e-01],\n",
       "       [ 1.02172246e+00, -9.99637472e-01],\n",
       "       [-6.80314865e-01,  4.33359965e-01],\n",
       "       [ 9.97855750e-02,  5.77891512e-01],\n",
       "       [-6.80314865e-01, -1.03330675e+00],\n",
       "       [-1.46041531e+00, -9.99637472e-01],\n",
       "       [-1.24766064e+00, -1.54573678e+00],\n",
       "       [ 1.70703797e-01,  9.25611477e-02],\n",
       "       [ 9.97855750e-02,  8.85021049e-01],\n",
       "       [ 4.54376684e-01,  1.22828347e+00],\n",
       "       [-1.46041531e+00,  3.97227079e-01],\n",
       "       [-1.10582420e+00, -1.19754715e+00],\n",
       "       [ 1.65998646e+00, -9.21623285e-01],\n",
       "       [-1.31857886e+00,  8.25894507e-01],\n",
       "       [ 8.79886015e-01,  1.26277396e+00],\n",
       "       [ 4.54376684e-01, -1.37821158e+00],\n",
       "       [-6.80314865e-01, -3.28715463e-01],\n",
       "       [-1.46041531e+00, -4.91313453e-01],\n",
       "       [-8.22151309e-01, -6.09566537e-01],\n",
       "       [ 6.67131350e-01, -1.12446017e+00],\n",
       "       [ 1.09264068e+00,  7.40489502e-01],\n",
       "       [-3.96641978e-01, -4.88028645e-01],\n",
       "       [ 3.12540241e-01,  2.17383847e-01],\n",
       "       [ 1.58906823e+00, -9.34762517e-01],\n",
       "       [ 8.79886015e-01, -1.07765166e+00],\n",
       "       [ 5.25294906e-01,  2.64192359e-01],\n",
       "       [-1.31857886e+00,  3.26603709e-01],\n",
       "       [ 1.09264068e+00, -6.39129808e-01],\n",
       "       [ 1.02172246e+00,  1.98496202e-01],\n",
       "       [-1.17674242e+00, -2.18545312e+00],\n",
       "       [-7.51233087e-01,  4.35823571e-01],\n",
       "       [ 1.51815001e+00, -2.66304113e-01],\n",
       "       [ 1.73090468e+00, -7.03183561e-01],\n",
       "       [ 8.79886015e-01,  2.63746605e+00],\n",
       "       [ 9.97855750e-02,  1.54972497e-01],\n",
       "       [ 8.08967793e-01,  1.03612221e+00],\n",
       "       [ 6.67131350e-01,  1.08163985e-01],\n",
       "       [ 1.73090468e+00,  9.99519655e-02],\n",
       "       [-1.53133353e+00, -2.50701276e-01],\n",
       "       [-1.12969091e-01,  5.06798473e-02],\n",
       "       [ 2.41622019e-01, -1.73461324e+00],\n",
       "       [ 1.30539535e+00,  1.84254255e+00],\n",
       "       [-6.80314865e-01, -4.53538162e-01],\n",
       "       [ 4.54376684e-01,  4.51426409e-01],\n",
       "       [-1.38949708e+00,  3.79160635e-01],\n",
       "       [-1.12969091e-01, -1.57201525e+00],\n",
       "       [-6.80314865e-01,  1.44296872e-01],\n",
       "       [-9.63987753e-01, -2.53164882e-01],\n",
       "       [ 1.23447712e+00, -1.23368003e+00],\n",
       "       [ 3.12540241e-01, -2.34674894e-04],\n",
       "       [-6.09396644e-01,  6.13554729e-02],\n",
       "       [ 1.44723179e+00, -2.02942474e+00],\n",
       "       [ 8.79886015e-01,  2.80006404e+00],\n",
       "       [ 6.67131350e-01,  4.35823571e-01],\n",
       "       [ 2.41622019e-01,  8.25894507e-01],\n",
       "       [ 4.54376684e-01,  4.98234921e-01],\n",
       "       [-1.38949708e+00,  4.28432753e-01],\n",
       "       [ 7.38049572e-01, -5.31552350e-01],\n",
       "       [-3.25723756e-01, -4.91313453e-01],\n",
       "       [ 1.09264068e+00,  4.67029246e-01],\n",
       "       [ 1.51815001e+00, -1.15566585e+00],\n",
       "       [ 1.65998646e+00,  9.21153936e-01],\n",
       "       [-4.20508687e-02, -9.52828960e-01],\n",
       "       [ 1.70703797e-01,  8.66954606e-01],\n",
       "       [-1.46041531e+00,  3.62736596e-01],\n",
       "       [-5.38478422e-01, -2.12304177e+00],\n",
       "       [-1.03490597e+00, -8.07124680e-02],\n",
       "       [-6.80314865e-01, -1.76417651e+00],\n",
       "       [ 7.38049572e-01, -4.22332488e-01],\n",
       "       [-1.83887312e-01, -1.20247436e+00],\n",
       "       [-1.03490597e+00, -6.56375049e-01],\n",
       "       [-8.22151309e-01, -6.86759522e-01],\n",
       "       [-1.24766064e+00, -3.91126813e-01],\n",
       "       [-1.31857886e+00,  7.94688832e-01],\n",
       "       [ 1.73090468e+00, -1.13842061e+00],\n",
       "       [ 2.88673531e-02,  7.56913542e-01],\n",
       "       [ 1.37631357e+00, -3.13112625e-01],\n",
       "       [-1.53133353e+00,  4.04617896e-01],\n",
       "       [-4.67560200e-01,  8.30821719e-01],\n",
       "       [-8.93069531e-01,  2.49786172e+00],\n",
       "       [-1.83887312e-01, -7.04825965e-01],\n",
       "       [-9.63987753e-01, -3.13112625e-01],\n",
       "       [ 1.70703797e-01,  4.04617896e-01],\n",
       "       [ 5.25294906e-01,  9.03087492e-01],\n",
       "       [-3.96641978e-01,  2.00514054e+00],\n",
       "       [ 1.30539535e+00, -5.78360862e-01],\n",
       "       [-1.53133353e+00,  1.38759665e+00],\n",
       "       [ 7.38049572e-01,  4.57526354e-02],\n",
       "       [ 1.37631357e+00, -4.88028645e-01],\n",
       "       [ 1.58906823e+00,  1.70575335e-01],\n",
       "       [ 2.88673531e-02,  3.79160635e-01],\n",
       "       [-1.17674242e+00, -1.96701339e+00],\n",
       "       [ 1.51815001e+00,  4.67029246e-01],\n",
       "       [-2.54805534e-01, -1.40531125e+00],\n",
       "       [ 9.97855750e-02, -3.10649020e-01],\n",
       "       [ 6.67131350e-01, -7.96800586e-01],\n",
       "       [ 1.51815001e+00, -1.57694246e+00],\n",
       "       [-1.12969091e-01, -1.84219069e+00],\n",
       "       [-1.31857886e+00, -7.65594911e-01],\n",
       "       [ 3.83458462e-01,  8.41497344e-01],\n",
       "       [-6.09396644e-01,  1.26441636e+00],\n",
       "       [ 2.88673531e-02, -1.44766222e-01],\n",
       "       [ 2.88673531e-02,  2.64192359e-01],\n",
       "       [ 1.73090468e+00,  1.18475977e+00],\n",
       "       [-3.25723756e-01, -3.14403498e-02],\n",
       "       [-4.67560200e-01,  1.49928012e+00],\n",
       "       [-8.22151309e-01, -1.04973079e+00],\n",
       "       [ 8.79886015e-01,  1.82447610e+00],\n",
       "       [-4.20508687e-02, -1.79256704e-01],\n",
       "       [ 6.67131350e-01,  1.11988481e+00],\n",
       "       [ 1.23447712e+00, -4.51895758e-01],\n",
       "       [ 3.12540241e-01, -5.24161532e-01],\n",
       "       [ 9.50804237e-01, -9.68431798e-01],\n",
       "       [ 8.08967793e-01,  2.64192359e-01],\n",
       "       [-1.46041531e+00, -1.65495664e+00],\n",
       "       [ 8.08967793e-01,  8.66954606e-01],\n",
       "       [ 8.08967793e-01, -1.08633335e-01],\n",
       "       [-1.53133353e+00, -4.78643892e-02],\n",
       "       [-8.93069531e-01,  4.04617896e-01],\n",
       "       [-5.38478422e-01,  4.82632084e-01],\n",
       "       [ 1.70703797e-01,  9.03908694e-01],\n",
       "       [-6.09396644e-01, -1.16469907e+00],\n",
       "       [-1.03490597e+00,  6.23057620e-01],\n",
       "       [-6.80314865e-01,  1.37281502e+00],\n",
       "       [-1.46041531e+00,  6.91217384e-01],\n",
       "       [ 3.83458462e-01, -3.27073059e-01],\n",
       "       [ 9.50804237e-01,  1.10674558e+00],\n",
       "       [-4.67560200e-01,  4.61280832e-01],\n",
       "       [-1.17674242e+00,  1.16376005e-01],\n",
       "       [-1.53133353e+00, -1.62621458e+00],\n",
       "       [-1.83887312e-01,  3.01497980e-02],\n",
       "       [-1.46041531e+00,  1.02873139e+00],\n",
       "       [ 2.41622019e-01, -9.46729015e-02],\n",
       "       [ 6.67131350e-01,  3.42558078e-02],\n",
       "       [ 6.67131350e-01, -1.41481414e-01],\n",
       "       [ 8.79886015e-01, -1.04644598e+00],\n",
       "       [ 1.37631357e+00, -1.62832665e-01],\n",
       "       [-8.93069531e-01,  3.11000872e-01],\n",
       "       [ 8.79886015e-01,  1.29890684e+00],\n",
       "       [-1.53133353e+00, -1.24928287e+00],\n",
       "       [-1.10582420e+00, -9.71365074e-02],\n",
       "       [-7.51233087e-01,  1.70575335e-01],\n",
       "       [ 2.41622019e-01, -6.55553847e-01],\n",
       "       [ 1.70703797e-01, -7.49992074e-01],\n",
       "       [-1.10582420e+00,  5.41758625e-01],\n",
       "       [ 1.37631357e+00,  2.79795197e-01],\n",
       "       [-5.38478422e-01,  2.22193786e+00],\n",
       "       [ 2.41622019e-01,  3.13464478e-01],\n",
       "       [-8.93069531e-01, -7.65594911e-01],\n",
       "       [ 1.58906823e+00, -1.52602794e+00],\n",
       "       [ 2.41622019e-01,  3.06894862e-01],\n",
       "       [-9.63987753e-01, -1.26699778e-01],\n",
       "       [-1.46041531e+00, -4.58465374e-01],\n",
       "       [ 7.38049572e-01, -7.03183561e-01],\n",
       "       [ 2.88673531e-02, -1.31169422e+00],\n",
       "       [-5.38478422e-01, -1.57084251e-01],\n",
       "       [-1.53133353e+00,  6.14024399e-01],\n",
       "       [ 1.09264068e+00,  5.23692182e-01],\n",
       "       [ 1.65998646e+00, -6.09566537e-01],\n",
       "       [ 5.96213128e-01,  4.33359965e-01],\n",
       "       [-8.22151309e-01,  1.21021703e+00],\n",
       "       [ 2.88673531e-02, -2.28528823e-01],\n",
       "       [-7.51233087e-01,  7.89761620e-01],\n",
       "       [ 3.12540241e-01,  1.05254625e+00],\n",
       "       [-8.93069531e-01, -1.66587143e-02],\n",
       "       [ 7.38049572e-01, -6.71977886e-01],\n",
       "       [-1.03490597e+00, -6.42884286e-02],\n",
       "       [-1.03490597e+00,  1.74646192e+00],\n",
       "       [ 3.83458462e-01, -3.22615517e-02],\n",
       "       [-1.83887312e-01, -1.72687089e-01],\n",
       "       [ 9.97855750e-02,  1.57154590e+00],\n",
       "       [ 6.67131350e-01, -1.54245197e+00],\n",
       "       [-1.53133353e+00, -1.08422128e+00],\n",
       "       [ 1.37631357e+00, -7.04825965e-01],\n",
       "       [-8.93069531e-01, -1.22875282e+00],\n",
       "       [ 3.83458462e-01,  1.80429759e-01],\n",
       "       [ 1.70703797e-01,  1.74646192e+00],\n",
       "       [ 3.12540241e-01, -1.45211976e+00],\n",
       "       [-6.80314865e-01, -1.28048855e+00],\n",
       "       [ 2.41622019e-01,  6.09097187e-01],\n",
       "       [-1.46041531e+00, -8.43609098e-01],\n",
       "       [-2.54805534e-01, -4.84743837e-01],\n",
       "       [ 1.16355890e+00, -6.56375049e-01],\n",
       "       [-4.20508687e-02, -7.03183561e-01],\n",
       "       [-1.53133353e+00,  1.01148615e+00],\n",
       "       [-2.54805534e-01, -2.97509788e-01],\n",
       "       [-1.12969091e-01, -2.34674894e-04],\n",
       "       [-1.83887312e-01, -1.95680744e-01],\n",
       "       [-1.53133353e+00, -9.05668916e-02],\n",
       "       [-1.10582420e+00, -1.32893946e+00],\n",
       "       [-1.46041531e+00, -1.01524031e+00],\n",
       "       [-1.31857886e+00,  6.86290172e-01],\n",
       "       [ 2.41622019e-01, -9.84034635e-01],\n",
       "       [-1.53133353e+00, -1.49892827e+00],\n",
       "       [-1.46041531e+00, -1.98590104e+00],\n",
       "       [-1.53133353e+00,  1.70575335e-01],\n",
       "       [-1.38949708e+00, -1.35850273e+00],\n",
       "       [-6.09396644e-01, -3.44318300e-01],\n",
       "       [-6.09396644e-01, -2.35098438e-01],\n",
       "       [ 1.23447712e+00,  1.39369660e-01],\n",
       "       [-1.17674242e+00, -1.01524031e+00],\n",
       "       [-1.53133353e+00, -1.26488571e+00],\n",
       "       [-8.93069531e-01,  3.24961305e-01],\n",
       "       [ 1.16355890e+00,  1.11988481e+00],\n",
       "       [ 1.09264068e+00, -1.50960390e+00],\n",
       "       [ 9.50804237e-01, -1.04644598e+00],\n",
       "       [ 8.79886015e-01,  2.30077325e+00],\n",
       "       [-1.53133353e+00, -2.17031995e-01],\n",
       "       [ 8.08967793e-01, -1.03084315e+00],\n",
       "       [-1.53133353e+00, -5.60294418e-01],\n",
       "       [-1.10582420e+00,  1.44508079e+00],\n",
       "       [ 1.70703797e-01, -1.20247436e+00],\n",
       "       [-1.12969091e-01,  1.62163922e+00],\n",
       "       [-1.31857886e+00,  6.41945266e-01],\n",
       "       [-1.03490597e+00, -1.18687152e+00],\n",
       "       [-1.17674242e+00,  3.29888517e-01],\n",
       "       [ 1.73090468e+00,  5.23692182e-01],\n",
       "       [ 1.30539535e+00,  8.22609699e-01],\n",
       "       [-5.38478422e-01,  5.13837758e-01],\n",
       "       [-8.22151309e-01,  3.79160635e-01],\n",
       "       [ 1.73090468e+00,  6.25521226e-01],\n",
       "       [-1.24766064e+00, -1.23368003e+00],\n",
       "       [ 8.79886015e-01,  4.28432753e-01],\n",
       "       [ 8.08967793e-01,  9.35114369e-01],\n",
       "       [ 8.08967793e-01,  1.15601770e+00],\n",
       "       [-1.38949708e+00, -1.05587686e-03],\n",
       "       [ 1.23447712e+00,  4.82632084e-01],\n",
       "       [ 6.67131350e-01,  1.96900765e+00],\n",
       "       [ 1.37631357e+00,  9.97525719e-01],\n",
       "       [-9.63987753e-01, -1.32729706e+00],\n",
       "       [-1.31857886e+00,  5.39646551e-02],\n",
       "       [ 1.37631357e+00, -1.15566585e+00],\n",
       "       [-1.46041531e+00, -1.00045867e+00],\n",
       "       [ 9.50804237e-01, -1.28295215e+00],\n",
       "       [-4.20508687e-02,  1.96490164e+00],\n",
       "       [-1.12969091e-01, -2.89297768e-01],\n",
       "       [ 1.30539535e+00,  8.85021049e-01],\n",
       "       [ 7.38049572e-01, -4.69962202e-01],\n",
       "       [ 2.41622019e-01, -7.65594911e-01],\n",
       "       [-1.53133353e+00, -1.48332543e+00],\n",
       "       [-2.54805534e-01,  1.84007894e+00],\n",
       "       [ 1.16355890e+00, -3.44318300e-01],\n",
       "       [ 1.65998646e+00,  1.23766823e-01],\n",
       "       [ 8.08967793e-01,  5.76249108e-01],\n",
       "       [-1.03490597e+00, -5.15949512e-01],\n",
       "       [ 1.70703797e-01, -9.57756172e-01],\n",
       "       [ 7.38049572e-01, -5.07737492e-01],\n",
       "       [-1.83887312e-01,  5.60646271e-01],\n",
       "       [ 8.08967793e-01,  9.81922881e-01],\n",
       "       [-4.67560200e-01,  1.93287476e+00],\n",
       "       [ 1.44723179e+00, -8.13224625e-01],\n",
       "       [ 2.88673531e-02,  9.03087492e-01],\n",
       "       [ 2.41622019e-01,  8.12755275e-01],\n",
       "       [-4.20508687e-02, -1.45211976e+00],\n",
       "       [ 1.02172246e+00, -2.97509788e-01],\n",
       "       [ 1.23447712e+00,  1.87867543e+00],\n",
       "       [-9.63987753e-01,  6.13554729e-02],\n",
       "       [-1.31857886e+00,  4.82632084e-01],\n",
       "       [ 5.25294906e-01, -1.88899921e+00],\n",
       "       [ 1.65998646e+00,  1.15109049e+00],\n",
       "       [-6.80314865e-01,  2.04127342e+00],\n",
       "       [ 1.02172246e+00,  9.00975418e-02],\n",
       "       [-1.46041531e+00, -2.97509788e-01],\n",
       "       [ 1.30539535e+00, -6.34672266e-02],\n",
       "       [-6.80314865e-01, -3.79629985e-01],\n",
       "       [-6.09396644e-01,  6.07454783e-01],\n",
       "       [-1.10582420e+00, -7.90700640e-02],\n",
       "       [-8.93069531e-01, -2.09183609e+00],\n",
       "       [-5.38478422e-01,  1.32800044e-01],\n",
       "       [ 1.02172246e+00,  5.77891512e-01],\n",
       "       [ 1.02172246e+00, -2.44952862e-01],\n",
       "       [-1.83887312e-01,  5.76249108e-01],\n",
       "       [-1.46041531e+00, -1.46772260e+00],\n",
       "       [ 3.12540241e-01,  1.21021703e+00],\n",
       "       [-8.22151309e-01,  3.97227079e-01],\n",
       "       [-1.46041531e+00, -2.66304113e-01],\n",
       "       [-1.10582420e+00, -6.71977886e-01],\n",
       "       [ 2.41622019e-01, -1.23039523e+00],\n",
       "       [ 2.41622019e-01,  7.01071808e-01],\n",
       "       [-9.63987753e-01, -1.78881257e+00],\n",
       "       [-3.25723756e-01, -4.84743837e-01],\n",
       "       [-1.46041531e+00, -1.34289990e+00],\n",
       "       [ 8.79886015e-01, -7.04825965e-01],\n",
       "       [-6.09396644e-01, -6.25169374e-01],\n",
       "       [-3.25723756e-01, -4.37935325e-01],\n",
       "       [ 5.25294906e-01,  8.85021049e-01],\n",
       "       [ 1.16355890e+00, -6.71977886e-01],\n",
       "       [ 2.88673531e-02, -7.18786399e-01],\n",
       "       [ 1.73090468e+00, -6.25169374e-01],\n",
       "       [ 1.44723179e+00,  2.88828419e-01],\n",
       "       [ 1.16355890e+00,  1.80429759e-01],\n",
       "       [-6.09396644e-01, -2.61376901e-01],\n",
       "       [ 7.38049572e-01, -5.47155187e-01],\n",
       "       [ 5.96213128e-01, -1.62832665e-01],\n",
       "       [-1.46041531e+00, -1.65742025e+00],\n",
       "       [ 9.97855750e-02, -1.46361659e+00],\n",
       "       [-1.53133353e+00,  1.49928012e+00],\n",
       "       [-1.17674242e+00,  7.01071808e-01],\n",
       "       [-1.46041531e+00,  7.73337581e-01],\n",
       "       [ 1.44723179e+00, -1.72687089e-01],\n",
       "       [-1.46041531e+00,  5.59825069e-01],\n",
       "       [ 2.41622019e-01,  2.54713384e+00],\n",
       "       [ 1.02172246e+00,  8.41497344e-01],\n",
       "       [ 1.70703797e-01, -7.59025295e-01],\n",
       "       [-1.53133353e+00, -7.18786399e-01],\n",
       "       [ 1.58906823e+00, -6.56375049e-01],\n",
       "       [ 4.54376684e-01, -2.94224980e-01],\n",
       "       [ 9.97855750e-02,  8.30821719e-01],\n",
       "       [-1.46041531e+00, -9.84034635e-01],\n",
       "       [-1.53133353e+00, -1.08633335e-01],\n",
       "       [ 1.70703797e-01, -8.85490399e-01],\n",
       "       [ 5.25294906e-01,  1.35474858e+00],\n",
       "       [ 1.65998646e+00,  2.47768320e-01],\n",
       "       [-1.03490597e+00, -1.66587143e-02],\n",
       "       [ 1.58906823e+00,  1.33668213e+00],\n",
       "       [-1.31857886e+00, -2.18298951e+00],\n",
       "       [-1.17674242e+00,  1.05254625e+00],\n",
       "       [-9.63987753e-01, -1.98965552e-01],\n",
       "       [ 5.25294906e-01, -1.04644598e+00],\n",
       "       [-8.22151309e-01, -7.81197748e-01],\n",
       "       [ 1.51815001e+00, -1.26699778e-01],\n",
       "       [-1.53133353e+00,  1.08163985e-01],\n",
       "       [-9.63987753e-01,  2.60133317e+00],\n",
       "       [-3.96641978e-01,  5.77891512e-01],\n",
       "       [-8.93069531e-01, -1.93580772e+00],\n",
       "       [ 5.25294906e-01,  9.75353266e-01],\n",
       "       [-3.25723756e-01,  1.29890684e+00],\n",
       "       [ 2.41622019e-01, -8.49357512e-01],\n",
       "       [-1.31857886e+00, -8.03370202e-01],\n",
       "       [ 2.88673531e-02,  1.76206475e+00],\n",
       "       [ 1.09264068e+00,  7.47880320e-01],\n",
       "       [ 1.51815001e+00, -4.09193256e-01],\n",
       "       [ 8.79886015e-01,  4.20220734e-01],\n",
       "       [-1.83887312e-01,  6.74793345e-01],\n",
       "       [ 2.41622019e-01, -5.47155187e-01],\n",
       "       [ 1.51815001e+00,  8.57100182e-01],\n",
       "       [-8.22151309e-01, -5.24161532e-01],\n",
       "       [-1.24766064e+00,  1.49681652e+00],\n",
       "       [-4.67560200e-01, -9.99637472e-01],\n",
       "       [-4.67560200e-01,  7.94688832e-01],\n",
       "       [-1.12969091e-01, -4.42041335e-01],\n",
       "       [ 6.67131350e-01,  1.01148615e+00],\n",
       "       [ 5.96213128e-01,  1.55347945e+00],\n",
       "       [ 1.44723179e+00,  1.67994456e+00],\n",
       "       [ 2.88673531e-02, -1.39135081e+00],\n",
       "       [-8.93069531e-01, -6.42884286e-02],\n",
       "       [ 3.83458462e-01, -1.04808839e+00],\n",
       "       [-8.93069531e-01,  7.20310985e-02],\n",
       "       [-1.03490597e+00, -9.37226123e-01],\n",
       "       [-7.51233087e-01, -2.81906951e-01],\n",
       "       [ 2.41622019e-01,  7.58555945e-01],\n",
       "       [ 2.88673531e-02, -5.40585571e-01],\n",
       "       [-1.46041531e+00, -3.43497098e-01],\n",
       "       [-1.83887312e-01,  1.78317684e-02],\n",
       "       [-3.96641978e-01, -8.85490399e-01],\n",
       "       [-1.53133353e+00,  1.55922787e+00],\n",
       "       [-1.17674242e+00, -1.06204882e+00]])"
      ]
     },
     "execution_count": 111,
     "metadata": {},
     "output_type": "execute_result"
    }
   ],
   "source": [
    "# Melihat isi dari data x_test_num_scaled\n",
    "x_test_num_scaled"
   ]
  },
  {
   "cell_type": "markdown",
   "metadata": {},
   "source": [
    "Scaling telah berhasil dilakukan."
   ]
  },
  {
   "cell_type": "markdown",
   "metadata": {},
   "source": [
    "## Encoding"
   ]
  },
  {
   "cell_type": "markdown",
   "metadata": {},
   "source": [
    "Karena kolom kategorik smoker adalah kategorik nominal, maka menggunakan one hot encoding."
   ]
  },
  {
   "cell_type": "code",
   "execution_count": 112,
   "metadata": {},
   "outputs": [
    {
     "name": "stderr",
     "output_type": "stream",
     "text": [
      "c:\\Users\\aisya\\anaconda3\\Lib\\site-packages\\sklearn\\preprocessing\\_encoders.py:972: FutureWarning: `sparse` was renamed to `sparse_output` in version 1.2 and will be removed in 1.4. `sparse_output` is ignored unless you leave `sparse` to its default value.\n",
      "  warnings.warn(\n"
     ]
    }
   ],
   "source": [
    "# One Hot Encoder untuk kolom smoker\n",
    "onehot_encoder = OneHotEncoder(sparse=False)\n",
    "x_train_encoded = onehot_encoder.fit_transform(x_train_cat[['smoker']])\n",
    "x_test_encoded = onehot_encoder.transform(x_test_cat[['smoker']])"
   ]
  },
  {
   "cell_type": "code",
   "execution_count": 113,
   "metadata": {},
   "outputs": [
    {
     "data": {
      "text/plain": [
       "array([[1., 0.],\n",
       "       [1., 0.],\n",
       "       [1., 0.],\n",
       "       ...,\n",
       "       [0., 1.],\n",
       "       [1., 0.],\n",
       "       [1., 0.]])"
      ]
     },
     "execution_count": 113,
     "metadata": {},
     "output_type": "execute_result"
    }
   ],
   "source": [
    "# Melihat isi dari data x_train_encoded\n",
    "x_train_encoded"
   ]
  },
  {
   "cell_type": "code",
   "execution_count": 114,
   "metadata": {},
   "outputs": [
    {
     "data": {
      "text/plain": [
       "array([[0., 1.],\n",
       "       [0., 1.],\n",
       "       [1., 0.],\n",
       "       [1., 0.],\n",
       "       [1., 0.],\n",
       "       [1., 0.],\n",
       "       [1., 0.],\n",
       "       [0., 1.],\n",
       "       [1., 0.],\n",
       "       [1., 0.],\n",
       "       [1., 0.],\n",
       "       [1., 0.],\n",
       "       [0., 1.],\n",
       "       [0., 1.],\n",
       "       [1., 0.],\n",
       "       [0., 1.],\n",
       "       [0., 1.],\n",
       "       [1., 0.],\n",
       "       [0., 1.],\n",
       "       [1., 0.],\n",
       "       [1., 0.],\n",
       "       [1., 0.],\n",
       "       [1., 0.],\n",
       "       [1., 0.],\n",
       "       [1., 0.],\n",
       "       [1., 0.],\n",
       "       [1., 0.],\n",
       "       [0., 1.],\n",
       "       [1., 0.],\n",
       "       [1., 0.],\n",
       "       [1., 0.],\n",
       "       [1., 0.],\n",
       "       [1., 0.],\n",
       "       [0., 1.],\n",
       "       [1., 0.],\n",
       "       [1., 0.],\n",
       "       [1., 0.],\n",
       "       [1., 0.],\n",
       "       [1., 0.],\n",
       "       [1., 0.],\n",
       "       [1., 0.],\n",
       "       [1., 0.],\n",
       "       [1., 0.],\n",
       "       [1., 0.],\n",
       "       [1., 0.],\n",
       "       [1., 0.],\n",
       "       [1., 0.],\n",
       "       [1., 0.],\n",
       "       [1., 0.],\n",
       "       [0., 1.],\n",
       "       [1., 0.],\n",
       "       [1., 0.],\n",
       "       [1., 0.],\n",
       "       [1., 0.],\n",
       "       [1., 0.],\n",
       "       [0., 1.],\n",
       "       [1., 0.],\n",
       "       [1., 0.],\n",
       "       [1., 0.],\n",
       "       [1., 0.],\n",
       "       [1., 0.],\n",
       "       [0., 1.],\n",
       "       [0., 1.],\n",
       "       [1., 0.],\n",
       "       [0., 1.],\n",
       "       [0., 1.],\n",
       "       [1., 0.],\n",
       "       [1., 0.],\n",
       "       [1., 0.],\n",
       "       [0., 1.],\n",
       "       [1., 0.],\n",
       "       [1., 0.],\n",
       "       [1., 0.],\n",
       "       [1., 0.],\n",
       "       [1., 0.],\n",
       "       [1., 0.],\n",
       "       [0., 1.],\n",
       "       [1., 0.],\n",
       "       [1., 0.],\n",
       "       [1., 0.],\n",
       "       [1., 0.],\n",
       "       [1., 0.],\n",
       "       [0., 1.],\n",
       "       [1., 0.],\n",
       "       [1., 0.],\n",
       "       [0., 1.],\n",
       "       [1., 0.],\n",
       "       [1., 0.],\n",
       "       [1., 0.],\n",
       "       [1., 0.],\n",
       "       [1., 0.],\n",
       "       [1., 0.],\n",
       "       [1., 0.],\n",
       "       [1., 0.],\n",
       "       [1., 0.],\n",
       "       [1., 0.],\n",
       "       [1., 0.],\n",
       "       [1., 0.],\n",
       "       [1., 0.],\n",
       "       [1., 0.],\n",
       "       [1., 0.],\n",
       "       [1., 0.],\n",
       "       [1., 0.],\n",
       "       [1., 0.],\n",
       "       [1., 0.],\n",
       "       [1., 0.],\n",
       "       [1., 0.],\n",
       "       [0., 1.],\n",
       "       [1., 0.],\n",
       "       [1., 0.],\n",
       "       [0., 1.],\n",
       "       [0., 1.],\n",
       "       [1., 0.],\n",
       "       [1., 0.],\n",
       "       [1., 0.],\n",
       "       [1., 0.],\n",
       "       [1., 0.],\n",
       "       [1., 0.],\n",
       "       [1., 0.],\n",
       "       [0., 1.],\n",
       "       [1., 0.],\n",
       "       [1., 0.],\n",
       "       [1., 0.],\n",
       "       [1., 0.],\n",
       "       [1., 0.],\n",
       "       [0., 1.],\n",
       "       [1., 0.],\n",
       "       [1., 0.],\n",
       "       [0., 1.],\n",
       "       [1., 0.],\n",
       "       [1., 0.],\n",
       "       [1., 0.],\n",
       "       [1., 0.],\n",
       "       [1., 0.],\n",
       "       [1., 0.],\n",
       "       [1., 0.],\n",
       "       [1., 0.],\n",
       "       [1., 0.],\n",
       "       [1., 0.],\n",
       "       [1., 0.],\n",
       "       [0., 1.],\n",
       "       [1., 0.],\n",
       "       [1., 0.],\n",
       "       [1., 0.],\n",
       "       [1., 0.],\n",
       "       [1., 0.],\n",
       "       [1., 0.],\n",
       "       [1., 0.],\n",
       "       [1., 0.],\n",
       "       [1., 0.],\n",
       "       [1., 0.],\n",
       "       [1., 0.],\n",
       "       [0., 1.],\n",
       "       [1., 0.],\n",
       "       [1., 0.],\n",
       "       [1., 0.],\n",
       "       [1., 0.],\n",
       "       [1., 0.],\n",
       "       [1., 0.],\n",
       "       [1., 0.],\n",
       "       [1., 0.],\n",
       "       [1., 0.],\n",
       "       [1., 0.],\n",
       "       [1., 0.],\n",
       "       [0., 1.],\n",
       "       [1., 0.],\n",
       "       [1., 0.],\n",
       "       [1., 0.],\n",
       "       [0., 1.],\n",
       "       [0., 1.],\n",
       "       [1., 0.],\n",
       "       [1., 0.],\n",
       "       [0., 1.],\n",
       "       [0., 1.],\n",
       "       [1., 0.],\n",
       "       [1., 0.],\n",
       "       [0., 1.],\n",
       "       [1., 0.],\n",
       "       [0., 1.],\n",
       "       [1., 0.],\n",
       "       [0., 1.],\n",
       "       [1., 0.],\n",
       "       [1., 0.],\n",
       "       [1., 0.],\n",
       "       [1., 0.],\n",
       "       [1., 0.],\n",
       "       [1., 0.],\n",
       "       [0., 1.],\n",
       "       [1., 0.],\n",
       "       [1., 0.],\n",
       "       [1., 0.],\n",
       "       [1., 0.],\n",
       "       [1., 0.],\n",
       "       [1., 0.],\n",
       "       [1., 0.],\n",
       "       [0., 1.],\n",
       "       [1., 0.],\n",
       "       [0., 1.],\n",
       "       [1., 0.],\n",
       "       [1., 0.],\n",
       "       [1., 0.],\n",
       "       [1., 0.],\n",
       "       [1., 0.],\n",
       "       [0., 1.],\n",
       "       [1., 0.],\n",
       "       [1., 0.],\n",
       "       [1., 0.],\n",
       "       [0., 1.],\n",
       "       [1., 0.],\n",
       "       [1., 0.],\n",
       "       [1., 0.],\n",
       "       [1., 0.],\n",
       "       [1., 0.],\n",
       "       [0., 1.],\n",
       "       [1., 0.],\n",
       "       [1., 0.],\n",
       "       [1., 0.],\n",
       "       [1., 0.],\n",
       "       [1., 0.],\n",
       "       [1., 0.],\n",
       "       [1., 0.],\n",
       "       [1., 0.],\n",
       "       [1., 0.],\n",
       "       [1., 0.],\n",
       "       [1., 0.],\n",
       "       [1., 0.],\n",
       "       [1., 0.],\n",
       "       [0., 1.],\n",
       "       [0., 1.],\n",
       "       [0., 1.],\n",
       "       [1., 0.],\n",
       "       [1., 0.],\n",
       "       [1., 0.],\n",
       "       [1., 0.],\n",
       "       [1., 0.],\n",
       "       [1., 0.],\n",
       "       [1., 0.],\n",
       "       [0., 1.],\n",
       "       [0., 1.],\n",
       "       [1., 0.],\n",
       "       [0., 1.],\n",
       "       [0., 1.],\n",
       "       [1., 0.],\n",
       "       [1., 0.],\n",
       "       [1., 0.],\n",
       "       [1., 0.],\n",
       "       [1., 0.],\n",
       "       [1., 0.],\n",
       "       [1., 0.],\n",
       "       [1., 0.],\n",
       "       [1., 0.],\n",
       "       [1., 0.],\n",
       "       [1., 0.],\n",
       "       [1., 0.],\n",
       "       [0., 1.],\n",
       "       [1., 0.],\n",
       "       [0., 1.],\n",
       "       [1., 0.],\n",
       "       [1., 0.],\n",
       "       [1., 0.],\n",
       "       [1., 0.],\n",
       "       [0., 1.],\n",
       "       [1., 0.],\n",
       "       [1., 0.],\n",
       "       [1., 0.],\n",
       "       [1., 0.],\n",
       "       [1., 0.],\n",
       "       [1., 0.],\n",
       "       [1., 0.],\n",
       "       [1., 0.],\n",
       "       [0., 1.],\n",
       "       [1., 0.],\n",
       "       [1., 0.],\n",
       "       [0., 1.],\n",
       "       [1., 0.],\n",
       "       [1., 0.],\n",
       "       [0., 1.],\n",
       "       [1., 0.],\n",
       "       [0., 1.],\n",
       "       [1., 0.],\n",
       "       [1., 0.],\n",
       "       [1., 0.],\n",
       "       [1., 0.],\n",
       "       [1., 0.],\n",
       "       [0., 1.],\n",
       "       [0., 1.],\n",
       "       [1., 0.],\n",
       "       [1., 0.],\n",
       "       [1., 0.],\n",
       "       [1., 0.],\n",
       "       [1., 0.],\n",
       "       [0., 1.],\n",
       "       [1., 0.],\n",
       "       [1., 0.],\n",
       "       [1., 0.],\n",
       "       [1., 0.],\n",
       "       [1., 0.],\n",
       "       [1., 0.],\n",
       "       [1., 0.],\n",
       "       [1., 0.],\n",
       "       [0., 1.],\n",
       "       [1., 0.],\n",
       "       [1., 0.],\n",
       "       [1., 0.],\n",
       "       [0., 1.],\n",
       "       [1., 0.],\n",
       "       [1., 0.],\n",
       "       [0., 1.],\n",
       "       [1., 0.],\n",
       "       [0., 1.],\n",
       "       [0., 1.],\n",
       "       [1., 0.],\n",
       "       [0., 1.],\n",
       "       [1., 0.],\n",
       "       [0., 1.],\n",
       "       [1., 0.],\n",
       "       [0., 1.],\n",
       "       [1., 0.],\n",
       "       [1., 0.],\n",
       "       [1., 0.],\n",
       "       [0., 1.],\n",
       "       [1., 0.],\n",
       "       [1., 0.],\n",
       "       [0., 1.],\n",
       "       [1., 0.],\n",
       "       [0., 1.],\n",
       "       [1., 0.],\n",
       "       [1., 0.],\n",
       "       [1., 0.],\n",
       "       [0., 1.],\n",
       "       [0., 1.],\n",
       "       [1., 0.],\n",
       "       [1., 0.],\n",
       "       [0., 1.],\n",
       "       [0., 1.],\n",
       "       [0., 1.],\n",
       "       [1., 0.],\n",
       "       [1., 0.],\n",
       "       [1., 0.],\n",
       "       [1., 0.],\n",
       "       [1., 0.],\n",
       "       [1., 0.],\n",
       "       [1., 0.],\n",
       "       [1., 0.],\n",
       "       [1., 0.],\n",
       "       [1., 0.],\n",
       "       [0., 1.],\n",
       "       [1., 0.],\n",
       "       [0., 1.],\n",
       "       [1., 0.],\n",
       "       [0., 1.],\n",
       "       [1., 0.],\n",
       "       [0., 1.],\n",
       "       [1., 0.],\n",
       "       [1., 0.],\n",
       "       [1., 0.],\n",
       "       [0., 1.],\n",
       "       [0., 1.],\n",
       "       [1., 0.],\n",
       "       [1., 0.],\n",
       "       [1., 0.],\n",
       "       [1., 0.],\n",
       "       [1., 0.],\n",
       "       [1., 0.],\n",
       "       [1., 0.],\n",
       "       [0., 1.],\n",
       "       [1., 0.],\n",
       "       [1., 0.],\n",
       "       [1., 0.],\n",
       "       [1., 0.],\n",
       "       [0., 1.],\n",
       "       [1., 0.],\n",
       "       [1., 0.],\n",
       "       [1., 0.],\n",
       "       [1., 0.],\n",
       "       [1., 0.],\n",
       "       [1., 0.],\n",
       "       [1., 0.],\n",
       "       [0., 1.],\n",
       "       [1., 0.],\n",
       "       [1., 0.],\n",
       "       [1., 0.],\n",
       "       [1., 0.],\n",
       "       [1., 0.],\n",
       "       [0., 1.],\n",
       "       [1., 0.],\n",
       "       [1., 0.],\n",
       "       [1., 0.],\n",
       "       [0., 1.],\n",
       "       [0., 1.],\n",
       "       [1., 0.],\n",
       "       [1., 0.],\n",
       "       [0., 1.],\n",
       "       [1., 0.],\n",
       "       [1., 0.],\n",
       "       [1., 0.],\n",
       "       [1., 0.],\n",
       "       [1., 0.],\n",
       "       [1., 0.],\n",
       "       [0., 1.],\n",
       "       [1., 0.],\n",
       "       [1., 0.]])"
      ]
     },
     "execution_count": 114,
     "metadata": {},
     "output_type": "execute_result"
    }
   ],
   "source": [
    "# Melihat isi dari data x_test_encoded\n",
    "x_test_encoded"
   ]
  },
  {
   "cell_type": "markdown",
   "metadata": {},
   "source": [
    "Data sudah selesai di encoded. Data sudah siap digunakan untuk modeling."
   ]
  },
  {
   "cell_type": "code",
   "execution_count": 115,
   "metadata": {},
   "outputs": [],
   "source": [
    "# Concate Columns\n",
    "x_train_final = np.concatenate([x_train_num_scaled, x_train_encoded], axis = 1)\n",
    "x_test_final = np.concatenate([x_test_num_scaled, x_test_encoded], axis = 1)"
   ]
  },
  {
   "cell_type": "code",
   "execution_count": 116,
   "metadata": {},
   "outputs": [
    {
     "name": "stdout",
     "output_type": "stream",
     "text": [
      "Ukuran data dari x_train: (936, 4)\n",
      "Ukuran data dari y_train: (936, 1)\n",
      "Ukuran data dari x_test: (402, 4)\n",
      "Ukuran data dari y_test: (402, 1)\n"
     ]
    }
   ],
   "source": [
    "# Melihat ukuran dari data train dan test\n",
    "print(f'Ukuran data dari x_train: {x_train_final.shape}')\n",
    "print(f'Ukuran data dari y_train: {y_train.shape}')\n",
    "print(f'Ukuran data dari x_test: {x_test_final.shape}')\n",
    "print(f'Ukuran data dari y_test: {y_test.shape}')"
   ]
  },
  {
   "cell_type": "markdown",
   "metadata": {},
   "source": [
    "Ukuran dari data train dan test sudah benar."
   ]
  },
  {
   "cell_type": "markdown",
   "metadata": {},
   "source": [
    "# Asumsi-asumsi 1&2 Linear Regression"
   ]
  },
  {
   "cell_type": "markdown",
   "metadata": {},
   "source": [
    "## Asumsi 1: Terdapat hubungan linear antara variabel dependen dan independen"
   ]
  },
  {
   "cell_type": "code",
   "execution_count": 117,
   "metadata": {},
   "outputs": [
    {
     "data": {
      "image/png": "[encoded data removed]",
      "text/plain": [
       "<Figure size 1800x600 with 3 Axes>"
      ]
     },
     "metadata": {},
     "output_type": "display_data"
    }
   ],
   "source": [
    "# Membuat subplot untuk variabel dependen dan independen dengan garis linear\n",
    "fig, axes = plt.subplots(1, 3, figsize=(18, 6))\n",
    "\n",
    "# Scatter plot untuk kolom age dan charges\n",
    "sns.scatterplot(ax=axes[0], data=data, x='age', y='charges')\n",
    "coef_age = np.polyfit(data['age'], data['charges'], 1)\n",
    "poly1d_fn_age = np.poly1d(coef_age) \n",
    "axes[0].plot(data['age'], poly1d_fn_age(data['age']), color=\"red\")\n",
    "axes[0].set_title('Age vs Charges')\n",
    "\n",
    "# Scatter plot untuk kolom bmi dan charges\n",
    "sns.scatterplot(ax=axes[1], data=data, x='bmi', y='charges')\n",
    "coef_bmi = np.polyfit(data['bmi'], data['charges'], 1)\n",
    "poly1d_fn_bmi = np.poly1d(coef_bmi) \n",
    "axes[1].plot(data['bmi'], poly1d_fn_bmi(data['bmi']), color=\"red\")\n",
    "axes[1].set_title('BMI vs Charges')\n",
    "\n",
    "# Scatter plot untuk kolom smoker dan charges\n",
    "sns.scatterplot(ax=axes[2], data=data, x='smoker', y='charges')\n",
    "axes[2].set_title('Smoker vs Charges')\n",
    "\n",
    "# Menampilkan plot\n",
    "plt.show()"
   ]
  },
  {
   "cell_type": "markdown",
   "metadata": {},
   "source": [
    "- Scatter plot pertama adalah hubungan antara umur dan biaya asuransi, menunjukkan hubungan positif antara umur dan biaya asuransi. Dengan bertambahnya umur, biaya asuransi cenderung meningkat. Namun, peningkatan ini tidak sepenuhnya linear karena terdapat dispersi yang cukup luas dalam biaya pada setiap kelompok umur, mengasumsikan bahwa terdapat kebijakan harga yang berbeda untuk kategori umur yang berbeda.\n",
    "\n",
    "- Scatter plot kedua adalah hubungan antara BMI dan biaya asuransi, menunjukkan bahwa ada hubungan positif antara BMI dan biaya asuransi. Individu dengan BMI yang lebih tinggi cenderung mengalami peningkatan dalam biaya asuransi. Namun, hubungan ini tidak sepenuhnya linear dan terdapat variabilitas yang signifikan. Misalnya, untuk nilai BMI yang lebih tinggi, range biaya asuransi melebar.\n",
    "\n",
    "- Scatter plot ketiga adalah hubungan antara status perokok dan biaya asuransi, sangat jelas bahwa status perokok memiliki pengaruh yang signifikan terhadap biaya asuransi. Perokok cenderung memiliki biaya asuransi yang jauh lebih tinggi dibandingkan dengan non-perokok.\n",
    "\n",
    "Kesimpulannya, asumsi 1 tidak terpenuhi karena terdapat variabel yang non-linear"
   ]
  },
  {
   "cell_type": "markdown",
   "metadata": {},
   "source": [
    "## Asumsi 2: Tidak terdapat feature yang saling berhubungan"
   ]
  },
  {
   "cell_type": "code",
   "execution_count": 118,
   "metadata": {},
   "outputs": [
    {
     "data": {
      "text/html": [
       "<div>\n",
       "<style scoped>\n",
       "    .dataframe tbody tr th:only-of-type {\n",
       "        vertical-align: middle;\n",
       "    }\n",
       "\n",
       "    .dataframe tbody tr th {\n",
       "        vertical-align: top;\n",
       "    }\n",
       "\n",
       "    .dataframe thead th {\n",
       "        text-align: right;\n",
       "    }\n",
       "</style>\n",
       "<table border=\"1\" class=\"dataframe\">\n",
       "  <thead>\n",
       "    <tr style=\"text-align: right;\">\n",
       "      <th></th>\n",
       "      <th>variables</th>\n",
       "      <th>VIF</th>\n",
       "    </tr>\n",
       "  </thead>\n",
       "  <tbody>\n",
       "    <tr>\n",
       "      <th>0</th>\n",
       "      <td>age</td>\n",
       "      <td>7.457006</td>\n",
       "    </tr>\n",
       "    <tr>\n",
       "      <th>1</th>\n",
       "      <td>bmi</td>\n",
       "      <td>7.457006</td>\n",
       "    </tr>\n",
       "  </tbody>\n",
       "</table>\n",
       "</div>"
      ],
      "text/plain": [
       "  variables       VIF\n",
       "0       age  7.457006\n",
       "1       bmi  7.457006"
      ]
     },
     "execution_count": 118,
     "metadata": {},
     "output_type": "execute_result"
    }
   ],
   "source": [
    "# Membuat fungsi untuk menghitung Variance Inflation Factor\n",
    "def calc_vif(X):\n",
    "    '''\n",
    "    Fungsi calc_vif berguna untuk menghitung Variance Inflation Factor,\n",
    "    untuk melihat apakah terdapat korelasi antar feature.\n",
    "    '''\n",
    "    \n",
    "    # Hanya memeriksa kolom numerik\n",
    "    numerics = ['int64', 'float64']\n",
    "    X = X.select_dtypes(include=numerics)\n",
    "    \n",
    "    vif_data = pd.DataFrame()\n",
    "    vif_data[\"variables\"] = X.columns\n",
    "    vif_data[\"VIF\"] = [variance_inflation_factor(X.values, i) for i in range(X.shape[1])]\n",
    "    \n",
    "    return vif_data\n",
    "\n",
    "# Melihat multicolinearity pada X\n",
    "calc_vif(X)"
   ]
  },
  {
   "cell_type": "markdown",
   "metadata": {},
   "source": [
    "Karena nilai VIF dari kedua variabel dibawah 10, maka tidak ada multicollinearity. Dapat disimpulkan bahwa asumsi 2 terpenuhi."
   ]
  },
  {
   "cell_type": "markdown",
   "metadata": {},
   "source": [
    "# Model Definition"
   ]
  },
  {
   "cell_type": "markdown",
   "metadata": {},
   "source": [
    "Program ini menggunakan machine learning yang berjenis supervised learning, dengan modelnya yaitu linear regression. Supervised learning adalah jenis machine learning dimana model dilatih dengan dataset yang memiliki input atau feature dan output atau label/target yang sudah diketahui. Tujuan dari supervised learning adalah membuat model yang dapat memprediksi output dengan benar untuk input dari data baru, dimana prediksi tersebut didasarkan dari pengalaman selama proses latihan.\n",
    "\n",
    "Linear regression adalah model supervised learning yang berjenis regresi, artinya model ini memprediksi nilai yang kontinu. Linear regression dapat mengatasi masalah regresi yang dapat menjelaskan hubungan antara satu variabel target dengan beberapa variabel feature dengan menggunakan persamaan linear.\n",
    "\n",
    "Persamaan dari multiple linear regression:\n",
    "yi = B0 + B1X1i + B2X2i + ... + BpXpi\n",
    "\n",
    "- yi: Variabel dependen (target)\n",
    "- B0: Intercept\n",
    "- B1: Kemiringan (slope)\n",
    "- X1i: Variabel independen (feature)\n",
    "- p: Jumlah variabel bebas"
   ]
  },
  {
   "cell_type": "markdown",
   "metadata": {},
   "source": [
    "Hyperparameter tidak digunakan pada model ini karena model ini hanya menggunakan default."
   ]
  },
  {
   "cell_type": "markdown",
   "metadata": {},
   "source": [
    "Pada data ini, dipilih model linear regression karena data ini memiliki hubungan linear, dimana linear regression efektif jika terdapat hubungan linear antara variabel independen dan variabel dependen. Dalam konteks prediksi charges, dapat diasumsikan bahwa perubahan pada feature (seperti age, sex, bmi, atau smoker) secara linear mempengaruhi charges. Model ini juga memberikan keuntungan dalam hal interpretasi. Koefisien yang dihasilkan dapat memberikan informasi mengenai seberapa besar perubahan charges yang diharapkan dengan satu unit perubahan pada variabel independen, dengan asumsi variabel lain tetap konstan. Linear regression juga relatif sederhana dan cepat untuk diimplementasikan."
   ]
  },
  {
   "cell_type": "markdown",
   "metadata": {},
   "source": [
    "Untuk model linear regression, jenis matriks evaluasi yang digunakan adalah MAE, MSE, RMSE, dan R2 Score. MAE adalah rata-rata nilai absolut dari error antara prediksi dan aktual. MAE adalah cara yang baik untuk melihat seberapa dekat prediksi dengan nilai aktual. MSE adalah rata-rata dari kuadrat kesalahan, berguna ketika kesalahan besar sangat tidak diinginkan. RMSE adalah akar kuadrat dari MSE. Ini memberikan ukuran kesalahan dalam unit yang sama dengan variabel target. R2 Score berguna untuk menunjukkan seberapa baik variabel bebas yang digunakan.\n",
    "\n",
    "Pada program ini, akan menggunakan matriks evaluasi yaitu RMSE untuk mendapatkan pemahaman tentang rata-rata kesalahan serta sensitivitas model terhadap outlier, kemudian digunakan juga R2 Score untuk menilai kesesuaian model secara keseluruhan."
   ]
  },
  {
   "cell_type": "markdown",
   "metadata": {},
   "source": [
    "# Model Training"
   ]
  },
  {
   "cell_type": "code",
   "execution_count": 119,
   "metadata": {},
   "outputs": [
    {
     "data": {
      "text/html": [
       "<style>#sk-container-id-2 {color: black;}#sk-container-id-2 pre{padding: 0;}#sk-container-id-2 div.sk-toggleable {background-color: white;}#sk-container-id-2 label.sk-toggleable__label {cursor: pointer;display: block;width: 100%;margin-bottom: 0;padding: 0.3em;box-sizing: border-box;text-align: center;}#sk-container-id-2 label.sk-toggleable__label-arrow:before {content: \"▸\";float: left;margin-right: 0.25em;color: #696969;}#sk-container-id-2 label.sk-toggleable__label-arrow:hover:before {color: black;}#sk-container-id-2 div.sk-estimator:hover label.sk-toggleable__label-arrow:before {color: black;}#sk-container-id-2 div.sk-toggleable__content {max-height: 0;max-width: 0;overflow: hidden;text-align: left;background-color: #f0f8ff;}#sk-container-id-2 div.sk-toggleable__content pre {margin: 0.2em;color: black;border-radius: 0.25em;background-color: #f0f8ff;}#sk-container-id-2 input.sk-toggleable__control:checked~div.sk-toggleable__content {max-height: 200px;max-width: 100%;overflow: auto;}#sk-container-id-2 input.sk-toggleable__control:checked~label.sk-toggleable__label-arrow:before {content: \"▾\";}#sk-container-id-2 div.sk-estimator input.sk-toggleable__control:checked~label.sk-toggleable__label {background-color: #d4ebff;}#sk-container-id-2 div.sk-label input.sk-toggleable__control:checked~label.sk-toggleable__label {background-color: #d4ebff;}#sk-container-id-2 input.sk-hidden--visually {border: 0;clip: rect(1px 1px 1px 1px);clip: rect(1px, 1px, 1px, 1px);height: 1px;margin: -1px;overflow: hidden;padding: 0;position: absolute;width: 1px;}#sk-container-id-2 div.sk-estimator {font-family: monospace;background-color: #f0f8ff;border: 1px dotted black;border-radius: 0.25em;box-sizing: border-box;margin-bottom: 0.5em;}#sk-container-id-2 div.sk-estimator:hover {background-color: #d4ebff;}#sk-container-id-2 div.sk-parallel-item::after {content: \"\";width: 100%;border-bottom: 1px solid gray;flex-grow: 1;}#sk-container-id-2 div.sk-label:hover label.sk-toggleable__label {background-color: #d4ebff;}#sk-container-id-2 div.sk-serial::before {content: \"\";position: absolute;border-left: 1px solid gray;box-sizing: border-box;top: 0;bottom: 0;left: 50%;z-index: 0;}#sk-container-id-2 div.sk-serial {display: flex;flex-direction: column;align-items: center;background-color: white;padding-right: 0.2em;padding-left: 0.2em;position: relative;}#sk-container-id-2 div.sk-item {position: relative;z-index: 1;}#sk-container-id-2 div.sk-parallel {display: flex;align-items: stretch;justify-content: center;background-color: white;position: relative;}#sk-container-id-2 div.sk-item::before, #sk-container-id-2 div.sk-parallel-item::before {content: \"\";position: absolute;border-left: 1px solid gray;box-sizing: border-box;top: 0;bottom: 0;left: 50%;z-index: -1;}#sk-container-id-2 div.sk-parallel-item {display: flex;flex-direction: column;z-index: 1;position: relative;background-color: white;}#sk-container-id-2 div.sk-parallel-item:first-child::after {align-self: flex-end;width: 50%;}#sk-container-id-2 div.sk-parallel-item:last-child::after {align-self: flex-start;width: 50%;}#sk-container-id-2 div.sk-parallel-item:only-child::after {width: 0;}#sk-container-id-2 div.sk-dashed-wrapped {border: 1px dashed gray;margin: 0 0.4em 0.5em 0.4em;box-sizing: border-box;padding-bottom: 0.4em;background-color: white;}#sk-container-id-2 div.sk-label label {font-family: monospace;font-weight: bold;display: inline-block;line-height: 1.2em;}#sk-container-id-2 div.sk-label-container {text-align: center;}#sk-container-id-2 div.sk-container {/* jupyter's `normalize.less` sets `[hidden] { display: none; }` but bootstrap.min.css set `[hidden] { display: none !important; }` so we also need the `!important` here to be able to override the default hidden behavior on the sphinx rendered scikit-learn.org. See: https://github.com/scikit-learn/scikit-learn/issues/21755 */display: inline-block !important;position: relative;}#sk-container-id-2 div.sk-text-repr-fallback {display: none;}</style><div id=\"sk-container-id-2\" class=\"sk-top-container\"><div class=\"sk-text-repr-fallback\"><pre>LinearRegression()</pre><b>In a Jupyter environment, please rerun this cell to show the HTML representation or trust the notebook. <br />On GitHub, the HTML representation is unable to render, please try loading this page with nbviewer.org.</b></div><div class=\"sk-container\" hidden><div class=\"sk-item\"><div class=\"sk-estimator sk-toggleable\"><input class=\"sk-toggleable__control sk-hidden--visually\" id=\"sk-estimator-id-2\" type=\"checkbox\" checked><label for=\"sk-estimator-id-2\" class=\"sk-toggleable__label sk-toggleable__label-arrow\">LinearRegression</label><div class=\"sk-toggleable__content\"><pre>LinearRegression()</pre></div></div></div></div></div>"
      ],
      "text/plain": [
       "LinearRegression()"
      ]
     },
     "execution_count": 119,
     "metadata": {},
     "output_type": "execute_result"
    }
   ],
   "source": [
    "# Melakukan training dengan model linear regression\n",
    "model_linreg = LinearRegression()\n",
    "model_linreg.fit(x_train_final, y_train)"
   ]
  },
  {
   "cell_type": "code",
   "execution_count": 120,
   "metadata": {},
   "outputs": [
    {
     "name": "stdout",
     "output_type": "stream",
     "text": [
      "Intercept :  [20461.90423899]\n"
     ]
    },
    {
     "data": {
      "text/html": [
       "<div>\n",
       "<style scoped>\n",
       "    .dataframe tbody tr th:only-of-type {\n",
       "        vertical-align: middle;\n",
       "    }\n",
       "\n",
       "    .dataframe tbody tr th {\n",
       "        vertical-align: top;\n",
       "    }\n",
       "\n",
       "    .dataframe thead th {\n",
       "        text-align: right;\n",
       "    }\n",
       "</style>\n",
       "<table border=\"1\" class=\"dataframe\">\n",
       "  <thead>\n",
       "    <tr style=\"text-align: right;\">\n",
       "      <th></th>\n",
       "      <th>feature</th>\n",
       "      <th>slope</th>\n",
       "    </tr>\n",
       "  </thead>\n",
       "  <tbody>\n",
       "    <tr>\n",
       "      <th>0</th>\n",
       "      <td>age</td>\n",
       "      <td>3722.024558</td>\n",
       "    </tr>\n",
       "    <tr>\n",
       "      <th>1</th>\n",
       "      <td>bmi</td>\n",
       "      <td>1941.023436</td>\n",
       "    </tr>\n",
       "    <tr>\n",
       "      <th>2</th>\n",
       "      <td>smoker_no</td>\n",
       "      <td>-11884.199573</td>\n",
       "    </tr>\n",
       "    <tr>\n",
       "      <th>3</th>\n",
       "      <td>smoker_yes</td>\n",
       "      <td>11884.199573</td>\n",
       "    </tr>\n",
       "  </tbody>\n",
       "</table>\n",
       "</div>"
      ],
      "text/plain": [
       "      feature         slope\n",
       "0         age   3722.024558\n",
       "1         bmi   1941.023436\n",
       "2   smoker_no -11884.199573\n",
       "3  smoker_yes  11884.199573"
      ]
     },
     "execution_count": 120,
     "metadata": {},
     "output_type": "execute_result"
    }
   ],
   "source": [
    "# Mengecek slope dan intercept\n",
    "slope = model_linreg.coef_\n",
    "intercept = model_linreg.intercept_\n",
    "\n",
    "# Pastikan slope adalah array satu dimensi\n",
    "# Jika model_linreg.coef_ adalah array dua dimensi dengan satu elemen, maka digunakan flatten()\n",
    "if slope.ndim > 1:\n",
    "    slope = slope.flatten()\n",
    "\n",
    "# Daftar fitur\n",
    "features = ['age', 'bmi', 'smoker_no', 'smoker_yes']\n",
    "\n",
    "params = {\n",
    "    'feature': features,\n",
    "    'slope': slope.tolist()\n",
    "}\n",
    "\n",
    "print('Intercept : ', intercept)\n",
    "pd.DataFrame(params)"
   ]
  },
  {
   "cell_type": "markdown",
   "metadata": {},
   "source": [
    "Nilai intercept 20461.90423899 adalah titik dimana garis regresi memotong sumbu y ketika semua variabel independen adalah 0.\n",
    "\n",
    "Slope adalah perubahan y terhadap setiap x, contoh feature age, slope nya adalah 3722.024558 yang berarti bahwa dengan setiap penambahan satu tahun usia, biaya asuransi diharapkan akan meningkat sebesar sekitar 3722.024558 unit mata uang, dan pada feature smoker_no, slope nya adalah -11884.199573 yang berarti bahwa jika seseorang adalah bukan perokok, maka biaya asuransi akan berkurang sebesar 11884.199573."
   ]
  },
  {
   "cell_type": "markdown",
   "metadata": {},
   "source": [
    "# Model Evaluation"
   ]
  },
  {
   "cell_type": "code",
   "execution_count": 121,
   "metadata": {},
   "outputs": [],
   "source": [
    "# Predict Train-Set dan Test-Set\n",
    "y_pred_train = model_linreg.predict(x_train_final)\n",
    "y_pred_test = model_linreg.predict(x_test_final)"
   ]
  },
  {
   "cell_type": "code",
   "execution_count": 122,
   "metadata": {},
   "outputs": [
    {
     "name": "stdout",
     "output_type": "stream",
     "text": [
      "RMSE - Train Set :  6199.016330814692\n",
      "RMSE - Test Set  :  5806.121926777112\n"
     ]
    }
   ],
   "source": [
    "# Model evaluation menggunakan RMSE\n",
    "print('RMSE - Train Set : ', mean_squared_error(y_train, y_pred_train, squared=False))\n",
    "print('RMSE - Test Set  : ', mean_squared_error(y_test, y_pred_test, squared=False))"
   ]
  },
  {
   "cell_type": "markdown",
   "metadata": {},
   "source": [
    "Digunakan RMSE sebagai model evaluation karena RMSE sangat memperhatikan error, maka ketika terdapat prediksi yang sangat jauh dari nilai sebenarnya, RMSE akan mencerminkan hal tersebut dengan baik. Nilai RMSE yang didapatkan sudah cukup baik, dimana pada data train nilai RMSE nya adalah 6199.016330814692, yang berarti biaya asuransi (variabel charges), bisa lebih tinggi atau lebih rendah sebesar 6199.016330814692, dan untuk data test nya sebesar 5806.121926777112."
   ]
  },
  {
   "cell_type": "code",
   "execution_count": 123,
   "metadata": {},
   "outputs": [
    {
     "name": "stdout",
     "output_type": "stream",
     "text": [
      "R2 Score - Train Set :  0.7292459079965236\n",
      "R2 Score - Test Set  :  0.7856697206483751\n"
     ]
    }
   ],
   "source": [
    "# Model evaluation menggunakan R2 score\n",
    "print('R2 Score - Train Set : ', r2_score(y_train, y_pred_train))\n",
    "print('R2 Score - Test Set  : ', r2_score(y_test, y_pred_test))"
   ]
  },
  {
   "cell_type": "markdown",
   "metadata": {},
   "source": [
    "Digunakan R2 Score untuk melihat apakah feature-feature yang digunakan sudah baik dalam menjelaskan variasi dari data target. Dari nilai R2 Score yang didapatkan, dapat dilihat bahwa model memiliki nilai R2 Score sekitar 0.72 pada data train dan sekitar 0.78 pada data test. Hal ini menunjukkan bahwa model mampu menjelaskan sekitar 72%-78% variasi dalam data train dan test."
   ]
  },
  {
   "cell_type": "markdown",
   "metadata": {},
   "source": [
    "## Analisa hasil prediksi"
   ]
  },
  {
   "cell_type": "code",
   "execution_count": 124,
   "metadata": {},
   "outputs": [],
   "source": [
    "# Melihat nilai minimum dan maksimum dari prediksi data test\n",
    "min_pred_test = y_pred_test.min()\n",
    "max_pred_test = y_pred_test.max()"
   ]
  },
  {
   "cell_type": "code",
   "execution_count": 125,
   "metadata": {},
   "outputs": [],
   "source": [
    "# Melihat nilai minimum dan maksimum sebenarnya dari data test\n",
    "min_actual_test = y_test.min()\n",
    "max_actual_test = y_test.max()"
   ]
  },
  {
   "cell_type": "code",
   "execution_count": 126,
   "metadata": {},
   "outputs": [
    {
     "name": "stdout",
     "output_type": "stream",
     "text": [
      "Nilai minimum prediksi pada data test: -712.6774256661811, Nilai minimum sebenarnya pada data test: charges    1131.5066\n",
      "dtype: float64\n",
      "Nilai maksimum prediksi pada data test: 40993.54783144285, Nilai maksimum sebenarnya pada data test: charges    55135.40209\n",
      "dtype: float64\n"
     ]
    }
   ],
   "source": [
    "# Membandingkan data prediksi dengan data sebenarnya\n",
    "print(f\"Nilai minimum prediksi pada data test: {min_pred_test}, Nilai minimum sebenarnya pada data test: {min_actual_test}\")\n",
    "print(f\"Nilai maksimum prediksi pada data test: {max_pred_test}, Nilai maksimum sebenarnya pada data test: {max_actual_test}\")"
   ]
  },
  {
   "cell_type": "markdown",
   "metadata": {},
   "source": [
    "Analisisnya adalah nilai minimum prediksi adalah -712.6774256661811, yang secara logika tidak masuk akal jika biaya bernilai negatif. Nilai maksimum prediksi adalah 40993.54783144285, lebih rendah daripada nilai maksimum sebenarnya yaitu 55135.40209. Hal ini menunjukkan bahwa model mengalami underfitting, yaitu tidak cukup kompleks untuk menangkap pola dalam data."
   ]
  },
  {
   "cell_type": "markdown",
   "metadata": {},
   "source": [
    "## Apakah model cenderung menghasilkan harga prediksi yang lebih rendah atau lebih tinggi dari harga sebenarnya baik dari train-set maupun test-set"
   ]
  },
  {
   "cell_type": "code",
   "execution_count": 127,
   "metadata": {},
   "outputs": [
    {
     "name": "stdout",
     "output_type": "stream",
     "text": [
      "Rata-rata kesalahan prediksi pada data train: charges   -1.321488e-13\n",
      "dtype: float64\n",
      "Rata-rata kesalahan prediksi pada data test: charges   -205.445491\n",
      "dtype: float64\n"
     ]
    }
   ],
   "source": [
    "# Melihat nilai residu dari data train\n",
    "residuals_train = y_train - y_pred_train\n",
    "\n",
    "# Melihat nilai residu dari data train\n",
    "residuals_test = y_test - y_pred_test\n",
    "\n",
    "# Melihat nilai rata-rata residu dari data train dan test\n",
    "bias_train = residuals_train.mean()\n",
    "bias_test = residuals_test.mean()\n",
    "\n",
    "# Menampilkan nilai rata-rata residu dari data train dan test\n",
    "print(f\"Rata-rata kesalahan prediksi pada data train: {bias_train}\")\n",
    "print(f\"Rata-rata kesalahan prediksi pada data test: {bias_test}\")"
   ]
  },
  {
   "cell_type": "markdown",
   "metadata": {},
   "source": [
    "Rata-rata kesalahan prediksi pada data train sangat mendekati nol, sekitar -1.321488e-13. Hal ini menunjukkan bahwa secara rata-rata, model tidak memiliki bias yang signifikan dalam data train. Maka, dapat disimpulkan bahwa model tidak cenderung memprediksi terlalu tinggi atau terlalu rendah dalam data train.\n",
    "\n",
    "Rata-rata kesalahan prediksi pada data test adalah sekitar -205.445491. Ini menunjukkan bahwa pada rata-rata, model memprediksi biaya asuransi yang lebih rendah dibandingkan dengan nilai sebenarnya dalam data test sebesar 205.445491 unit (asumsi dalam mata uang yang sama dengan charges)."
   ]
  },
  {
   "cell_type": "markdown",
   "metadata": {},
   "source": [
    "# Asumsi-asumsi 3,4, dan 5 Linear Regression"
   ]
  },
  {
   "cell_type": "markdown",
   "metadata": {},
   "source": [
    "## Asumsi 3: Melihat apakah data menyebar normal"
   ]
  },
  {
   "cell_type": "code",
   "execution_count": 128,
   "metadata": {},
   "outputs": [
    {
     "data": {
      "text/html": [
       "<div>\n",
       "<style scoped>\n",
       "    .dataframe tbody tr th:only-of-type {\n",
       "        vertical-align: middle;\n",
       "    }\n",
       "\n",
       "    .dataframe tbody tr th {\n",
       "        vertical-align: top;\n",
       "    }\n",
       "\n",
       "    .dataframe thead th {\n",
       "        text-align: right;\n",
       "    }\n",
       "</style>\n",
       "<table border=\"1\" class=\"dataframe\">\n",
       "  <thead>\n",
       "    <tr style=\"text-align: right;\">\n",
       "      <th></th>\n",
       "      <th>charges</th>\n",
       "    </tr>\n",
       "  </thead>\n",
       "  <tbody>\n",
       "    <tr>\n",
       "      <th>38</th>\n",
       "      <td>6734.588982</td>\n",
       "    </tr>\n",
       "    <tr>\n",
       "      <th>126</th>\n",
       "      <td>-9066.947925</td>\n",
       "    </tr>\n",
       "    <tr>\n",
       "      <th>479</th>\n",
       "      <td>-2969.245206</td>\n",
       "    </tr>\n",
       "    <tr>\n",
       "      <th>10</th>\n",
       "      <td>-578.971694</td>\n",
       "    </tr>\n",
       "    <tr>\n",
       "      <th>195</th>\n",
       "      <td>-1470.104978</td>\n",
       "    </tr>\n",
       "    <tr>\n",
       "      <th>...</th>\n",
       "      <td>...</td>\n",
       "    </tr>\n",
       "    <tr>\n",
       "      <th>32</th>\n",
       "      <td>2212.529886</td>\n",
       "    </tr>\n",
       "    <tr>\n",
       "      <th>112</th>\n",
       "      <td>-3281.124453</td>\n",
       "    </tr>\n",
       "    <tr>\n",
       "      <th>142</th>\n",
       "      <td>-10178.540013</td>\n",
       "    </tr>\n",
       "    <tr>\n",
       "      <th>942</th>\n",
       "      <td>-3687.072351</td>\n",
       "    </tr>\n",
       "    <tr>\n",
       "      <th>1328</th>\n",
       "      <td>20259.365409</td>\n",
       "    </tr>\n",
       "  </tbody>\n",
       "</table>\n",
       "<p>402 rows × 1 columns</p>\n",
       "</div>"
      ],
      "text/plain": [
       "           charges\n",
       "38     6734.588982\n",
       "126   -9066.947925\n",
       "479   -2969.245206\n",
       "10     -578.971694\n",
       "195   -1470.104978\n",
       "...            ...\n",
       "32     2212.529886\n",
       "112   -3281.124453\n",
       "142  -10178.540013\n",
       "942   -3687.072351\n",
       "1328  20259.365409\n",
       "\n",
       "[402 rows x 1 columns]"
      ]
     },
     "execution_count": 128,
     "metadata": {},
     "output_type": "execute_result"
    }
   ],
   "source": [
    "# Melihat residuals\n",
    "y_test_residuals = y_test - y_pred_test\n",
    "y_test_residuals"
   ]
  },
  {
   "cell_type": "code",
   "execution_count": 129,
   "metadata": {},
   "outputs": [
    {
     "data": {
      "image/png": "[encoded data removed]",
      "text/plain": [
       "<Figure size 640x480 with 1 Axes>"
      ]
     },
     "metadata": {},
     "output_type": "display_data"
    }
   ],
   "source": [
    "# Menampilkan QQ plot\n",
    "sm.qqplot(y_test_residuals, line ='45')\n",
    "plt.show()"
   ]
  },
  {
   "cell_type": "markdown",
   "metadata": {},
   "source": [
    "Dari grafik QQ plot, terlihat bahwa data tidak menyebar dengan normal, terlihat bahwa ada penyimpangan yang cukup signifikan dari garis lurus, maka dapat disimpulkan bahwa asumsi 3 tidak terpenuhi."
   ]
  },
  {
   "cell_type": "markdown",
   "metadata": {},
   "source": [
    "## Asumsi 4: Tidak ada auto-correlation"
   ]
  },
  {
   "cell_type": "code",
   "execution_count": 130,
   "metadata": {},
   "outputs": [
    {
     "data": {
      "text/plain": [
       "array([1.93861035])"
      ]
     },
     "execution_count": 130,
     "metadata": {},
     "output_type": "execute_result"
    }
   ],
   "source": [
    "# Menggunakan Durbin-Watson test\n",
    "durbin_watson(y_test_residuals)"
   ]
  },
  {
   "cell_type": "markdown",
   "metadata": {},
   "source": [
    "Karena hasil Durbin-Watson test nya adalah 1.93861035, yaitu masih dalam range 1.5 sampai 2.5, maka dapat disimpulkan bahwa tidak ada korelasi antar nilai error, maka asumsi 4 terpenuhi."
   ]
  },
  {
   "cell_type": "markdown",
   "metadata": {},
   "source": [
    "## Asumsi 5: Mengecek homoscedasticity"
   ]
  },
  {
   "cell_type": "code",
   "execution_count": 131,
   "metadata": {},
   "outputs": [
    {
     "data": {
      "image/png": "[encoded data removed]",
      "text/plain": [
       "<Figure size 640x480 with 1 Axes>"
      ]
     },
     "metadata": {},
     "output_type": "display_data"
    }
   ],
   "source": [
    "# Mengecek homoscedasticity\n",
    "plt.scatter(y_test, y_test_residuals)\n",
    "plt.axhline(y = 0, color = 'r', linestyle = '--')\n",
    "plt.show()"
   ]
  },
  {
   "cell_type": "markdown",
   "metadata": {},
   "source": [
    "Dari grafik homoscedasticity, dilihat bahwa error nya tidak konstan, yaitu berarti adalah heteroscedasticity dan asumsi 5 tidak terpenuhi."
   ]
  },
  {
   "cell_type": "markdown",
   "metadata": {},
   "source": [
    "# Model Saving"
   ]
  },
  {
   "cell_type": "code",
   "execution_count": 132,
   "metadata": {},
   "outputs": [],
   "source": [
    "# Save Files\n",
    "with open('list_num_cols.txt', 'w') as file_1:\n",
    "  json.dump(num_columns, file_1)\n",
    "\n",
    "with open('list_cat_cols.txt', 'w') as file_2:\n",
    "  json.dump(cat_columns, file_2)\n",
    "\n",
    "with open('scaler.pkl', 'wb') as file_3:\n",
    "  pickle.dump(scaler, file_3)\n",
    "\n",
    "with open('onehot_encoder.pkl', 'wb') as file_4:\n",
    "  pickle.dump(onehot_encoder, file_4)\n",
    "\n",
    "with open('model_linreg.pkl', 'wb') as file_6:\n",
    "  pickle.dump(model_linreg, file_6)"
   ]
  },
  {
   "cell_type": "markdown",
   "metadata": {},
   "source": [
    "# Kesimpulan"
   ]
  },
  {
   "cell_type": "markdown",
   "metadata": {},
   "source": [
    "Pada dataset insurance.csv dilakukan EDA sebanyak 3, yang pertama untuk melihat jumlah orang berdasarkan setiap kelas BMI, dimana hasilnya adalah para pemilik asuransi kebanyakan tidak overweight, namun jumlah orang yang memiliki overweight kelas 1 juga lumayan banyak, maka dari itu perlu untuk diperhatikan. Urutannya adalah not overweight, overweight class 1, overweight class 2, dan overweight class 3. Orang dengan overweight cenderung lebih banyak bisa menunjukkan risiko kesehatan yang lebih tinggi yang dapat meningkatkan biaya asuransi.\n",
    "\n",
    "Kedua, didapatkan informasi bahwa pemilik asuransi lebih banyak yang berjenis kelamin laki-laki, dan berdasarkan EDA ketiga, laki-laki lebih banyak yang menjadi perokok. Dapat diketahui juga, bahwa pemilik asuransi kebanyakan bertempat tinggal di southeast.\n",
    "\n",
    "Model linear regression yang dibuat untuk memprediksi biaya asuransi (variabel charges) menunjukkan hasil yang cukup memuaskan berdasarkan nilai RMSE dan R2 Score. Nilai RMSE memberikan gambaran mengenai deviasi rata-rata antara biaya asuransi yang diprediksi dan yang sebenarnya, yang penting dalam konteks finansial untuk mengetahui seberapa besar kesalahan prediksi yang mungkin terjadi.\n",
    "\n",
    "Nilai RMSE pada data train adalah 6144.021061206951, yang menandakan bahwa prediksi biaya asuransi dapat menyimpang rata-rata sekitar 6144.021061206951 dari nilai sebenarnya, sedangkan pada data test, RMSE lebih baik lagi, yaitu 5766.439735958241, yang mengindikasikan prediksi yang lebih akurat pada data yang tidak dikenal model (good fit). Selain itu, R2 Score yang didapatkan adalah 0.73 untuk data train dan 0.78 untuk data test, menyatakan bahwa model mampu menjelaskan sekitar 73% hingga 78% dari variabel dalam biaya asuransi, hal ini menandakan bahwa feature yang dipilih sudah dapat menjelaskan target dengan baik."
   ]
  },
  {
   "cell_type": "markdown",
   "metadata": {},
   "source": [
    "Feature-feature yang mempengaruhi biaya asuransi adalah age, bmi, dan smoker dibuktikan dengan nilai korelasinya yang tinggi. Dari nilai slopenya, dapat dilihat bahwa semakin tinggi umur dan nilai bmi nya, maka biaya asuransinya juga semakin tinggi, namun untuk smoker, orang yang tidak merokok akan mengalami pengurangan biaya asuransi, sehingga biaya nya menjadi lebih rendah dibandingkan dengan orang yang merokok."
   ]
  },
  {
   "cell_type": "markdown",
   "metadata": {},
   "source": [
    "Dari 5 asumsi yang ada pada model linear regression, hanya 2 asumsi yang terpenuhi, yaitu asumsi 2 dan 4. Maka, dapat disimpulkan bahwa model linear regression tidak cocok digunakan untuk dataset insurance.csv."
   ]
  },
  {
   "cell_type": "markdown",
   "metadata": {},
   "source": [
    "Untuk model prediksi yang lebih baik, disarankan untuk memperbanyak data, agar model dapat belajar dengan lebih baik. Kemudian, disarankan untuk mengganti model dengan model regresi yang lain, karena model linear regression tidak cocok untuk dataset insurance.csv yang dibuktikan bahwa hanya 2 asumsi linear regression yang terpenuhi."
   ]
  }
 ],
 "metadata": {
  "kernelspec": {
   "display_name": "base",
   "language": "python",
   "name": "python3"
  },
  "language_info": {
   "codemirror_mode": {
    "name": "ipython",
    "version": 3
   },
   "file_extension": ".py",
   "mimetype": "text/x-python",
   "name": "python",
   "nbconvert_exporter": "python",
   "pygments_lexer": "ipython3",
   "version": "3.11.5"
  }
 },
 "nbformat": 4,
 "nbformat_minor": 2
}
